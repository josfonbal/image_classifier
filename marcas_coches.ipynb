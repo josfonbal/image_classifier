{
 "cells": [
  {
   "cell_type": "markdown",
   "metadata": {},
   "source": [
    "# CLASIFICADOR DE MARCAS DE COCHES: JOSÉ IGNACIO FONTECHA Y ÁLVARO OTADUY"
   ]
  },
  {
   "cell_type": "markdown",
   "metadata": {},
   "source": [
    "En este trabajo, se realizará un clasificador de marcas de coches mediante empleando redes convolucionales, en un proceso iterativo en el que cada modelo intentará mejor al anterior al introducir ciertas mejoras en las redes convolucionales. En todo momento se intentará conseguir la mayor precisión posible, todo ello evitando el sobreentrenamiento, uno de los problemas principales a evitar en estos proyectos. Se comienza con un clasificador de dos tipos de marcas, para luego intentar replicar los resultados obtenidos en un clasificador de tres marcas distintas de coches. Por último, se muestran unas conclusiones y unas opciones de mejora de los modelos."
   ]
  },
  {
   "cell_type": "code",
   "execution_count": 1,
   "metadata": {},
   "outputs": [],
   "source": []
  },
  {
   "cell_type": "code",
   "execution_count": 5,
   "metadata": {},
   "outputs": [
    {
     "data": {
      "text/plain": [
       "'2.4.3'"
      ]
     },
     "execution_count": 5,
     "metadata": {},
     "output_type": "execute_result"
    }
   ],
   "source": [
    "import keras\n",
    "keras.__version__"
   ]
  },
  {
   "cell_type": "code",
   "execution_count": 6,
   "metadata": {},
   "outputs": [],
   "source": [
    "import os\n",
    "\n",
    "import numpy as np\n",
    "import pandas as pd\n",
    "import matplotlib.pyplot as plt\n",
    "import tensorflow as tf\n",
    "import seaborn as sns\n",
    "import shutil\n",
    "\n",
    "from keras import layers\n",
    "from keras import models\n",
    "from keras import utils\n",
    "from keras import regularizers, optimizers\n",
    "from keras import losses\n",
    "from keras import datasets\n",
    "\n",
    "from keras.layers import LeakyReLU\n",
    "from keras.layers import PReLU\n",
    "from keras.layers import Dense\n",
    "from keras.layers import Flatten\n",
    "from keras.layers import Dropout\n",
    "from keras.layers import Activation\n",
    "from keras.layers import Dense, Activation, Flatten, Dropout, BatchNormalization\n",
    "from keras.layers import Conv2D, MaxPooling2D\n",
    "\n",
    "from keras.optimizers import SGD\n",
    "from keras.optimizers import RMSprop\n",
    "\n",
    "from keras.models import Sequential\n",
    "from keras.regularizers import l2\n",
    "\n",
    "from keras.callbacks import LearningRateScheduler\n",
    "from keras.callbacks import History\n",
    "from keras.callbacks import ReduceLROnPlateau\n",
    "\n",
    "from keras_preprocessing.image import ImageDataGenerator\n",
    "\n",
    "from sklearn.utils import shuffle"
   ]
  },
  {
   "cell_type": "markdown",
   "metadata": {},
   "source": [
    "## INTRODUCCIÓN: CREACIÓN DEL DATAFRAME Y DE LAS ETIQUETAS DE LAS IMÁGENES"
   ]
  },
  {
   "cell_type": "code",
   "execution_count": 7,
   "metadata": {},
   "outputs": [],
   "source": [
    "directorio_carpeta = \"/Users/nachofontecha/Desktop/Máster Big Data/Análisis de Datos No Estructurados/car_images\""
   ]
  },
  {
   "cell_type": "code",
   "execution_count": 8,
   "metadata": {},
   "outputs": [],
   "source": [
    "lista_coches = os.listdir(directorio_carpeta)"
   ]
  },
  {
   "cell_type": "code",
   "execution_count": 5,
   "metadata": {},
   "outputs": [
    {
     "data": {
      "text/plain": [
       "['Ford_Flex_2010_39_19_260_35_6_75_68_201_16_AWD_7_4_4dr_Zza.jpg',\n",
       " 'Chevrolet_Suburban_2011_41_17_320_53_8_79_76_nan_15_RWD_9_4_SUV_hyG.jpg',\n",
       " 'Nissan_Maxima_2011_31_18_290_35_6_73_57_190_19_FWD_5_4_4dr_Ytw.jpg',\n",
       " 'Chevrolet_Silverado 1500_2014_45_20_350_53_8_80_74_nan_16_RWD_5_4_Pickup_Fhi.jpg',\n",
       " 'Dodge_Durango_2019_45_20_290_36_6_75_70_201_18_AWD_6_4_SUV_usz.jpg']"
      ]
     },
     "execution_count": 5,
     "metadata": {},
     "output_type": "execute_result"
    }
   ],
   "source": [
    "lista_coches[:5]"
   ]
  },
  {
   "cell_type": "code",
   "execution_count": 9,
   "metadata": {},
   "outputs": [],
   "source": [
    "df=pd.DataFrame()"
   ]
  },
  {
   "cell_type": "markdown",
   "metadata": {},
   "source": [
    "Se crea un pandas DataFrame que se rellenará con la lista creada con las imágenes, además de crear una columna con las etiquetas de cada imágen, que coincidirá con la marca del coche."
   ]
  },
  {
   "cell_type": "code",
   "execution_count": 10,
   "metadata": {},
   "outputs": [],
   "source": [
    "df['Lista_imagenes'] = lista_coches\n",
    "df['Marca'] = [imagen.split('_')[0] for imagen in lista_coches]"
   ]
  },
  {
   "cell_type": "code",
   "execution_count": 8,
   "metadata": {},
   "outputs": [
    {
     "data": {
      "text/html": [
       "<div>\n",
       "<style scoped>\n",
       "    .dataframe tbody tr th:only-of-type {\n",
       "        vertical-align: middle;\n",
       "    }\n",
       "\n",
       "    .dataframe tbody tr th {\n",
       "        vertical-align: top;\n",
       "    }\n",
       "\n",
       "    .dataframe thead th {\n",
       "        text-align: right;\n",
       "    }\n",
       "</style>\n",
       "<table border=\"1\" class=\"dataframe\">\n",
       "  <thead>\n",
       "    <tr style=\"text-align: right;\">\n",
       "      <th></th>\n",
       "      <th>Lista_imagenes</th>\n",
       "      <th>Marca</th>\n",
       "    </tr>\n",
       "  </thead>\n",
       "  <tbody>\n",
       "    <tr>\n",
       "      <th>0</th>\n",
       "      <td>Ford_Flex_2010_39_19_260_35_6_75_68_201_16_AWD...</td>\n",
       "      <td>Ford</td>\n",
       "    </tr>\n",
       "    <tr>\n",
       "      <th>1</th>\n",
       "      <td>Chevrolet_Suburban_2011_41_17_320_53_8_79_76_n...</td>\n",
       "      <td>Chevrolet</td>\n",
       "    </tr>\n",
       "    <tr>\n",
       "      <th>2</th>\n",
       "      <td>Nissan_Maxima_2011_31_18_290_35_6_73_57_190_19...</td>\n",
       "      <td>Nissan</td>\n",
       "    </tr>\n",
       "    <tr>\n",
       "      <th>3</th>\n",
       "      <td>Chevrolet_Silverado 1500_2014_45_20_350_53_8_8...</td>\n",
       "      <td>Chevrolet</td>\n",
       "    </tr>\n",
       "    <tr>\n",
       "      <th>4</th>\n",
       "      <td>Dodge_Durango_2019_45_20_290_36_6_75_70_201_18...</td>\n",
       "      <td>Dodge</td>\n",
       "    </tr>\n",
       "  </tbody>\n",
       "</table>\n",
       "</div>"
      ],
      "text/plain": [
       "                                      Lista_imagenes      Marca\n",
       "0  Ford_Flex_2010_39_19_260_35_6_75_68_201_16_AWD...       Ford\n",
       "1  Chevrolet_Suburban_2011_41_17_320_53_8_79_76_n...  Chevrolet\n",
       "2  Nissan_Maxima_2011_31_18_290_35_6_73_57_190_19...     Nissan\n",
       "3  Chevrolet_Silverado 1500_2014_45_20_350_53_8_8...  Chevrolet\n",
       "4  Dodge_Durango_2019_45_20_290_36_6_75_70_201_18...      Dodge"
      ]
     },
     "execution_count": 8,
     "metadata": {},
     "output_type": "execute_result"
    }
   ],
   "source": [
    "df.head(5)"
   ]
  },
  {
   "cell_type": "code",
   "execution_count": 11,
   "metadata": {},
   "outputs": [
    {
     "data": {
      "text/html": [
       "<div>\n",
       "<style scoped>\n",
       "    .dataframe tbody tr th:only-of-type {\n",
       "        vertical-align: middle;\n",
       "    }\n",
       "\n",
       "    .dataframe tbody tr th {\n",
       "        vertical-align: top;\n",
       "    }\n",
       "\n",
       "    .dataframe thead th {\n",
       "        text-align: right;\n",
       "    }\n",
       "</style>\n",
       "<table border=\"1\" class=\"dataframe\">\n",
       "  <thead>\n",
       "    <tr style=\"text-align: right;\">\n",
       "      <th></th>\n",
       "      <th>Lista_imagenes</th>\n",
       "    </tr>\n",
       "    <tr>\n",
       "      <th>Marca</th>\n",
       "      <th></th>\n",
       "    </tr>\n",
       "  </thead>\n",
       "  <tbody>\n",
       "    <tr>\n",
       "      <th>Chevrolet</th>\n",
       "      <td>5079</td>\n",
       "    </tr>\n",
       "    <tr>\n",
       "      <th>Toyota</th>\n",
       "      <td>4598</td>\n",
       "    </tr>\n",
       "    <tr>\n",
       "      <th>Ford</th>\n",
       "      <td>4416</td>\n",
       "    </tr>\n",
       "    <tr>\n",
       "      <th>BMW</th>\n",
       "      <td>4121</td>\n",
       "    </tr>\n",
       "    <tr>\n",
       "      <th>Nissan</th>\n",
       "      <td>3881</td>\n",
       "    </tr>\n",
       "    <tr>\n",
       "      <th>Audi</th>\n",
       "      <td>3131</td>\n",
       "    </tr>\n",
       "    <tr>\n",
       "      <th>Mercedes-Benz</th>\n",
       "      <td>3097</td>\n",
       "    </tr>\n",
       "    <tr>\n",
       "      <th>Honda</th>\n",
       "      <td>2675</td>\n",
       "    </tr>\n",
       "    <tr>\n",
       "      <th>Kia</th>\n",
       "      <td>2160</td>\n",
       "    </tr>\n",
       "    <tr>\n",
       "      <th>Lexus</th>\n",
       "      <td>2125</td>\n",
       "    </tr>\n",
       "    <tr>\n",
       "      <th>Hyundai</th>\n",
       "      <td>2091</td>\n",
       "    </tr>\n",
       "    <tr>\n",
       "      <th>GMC</th>\n",
       "      <td>2067</td>\n",
       "    </tr>\n",
       "    <tr>\n",
       "      <th>Volkswagen</th>\n",
       "      <td>1752</td>\n",
       "    </tr>\n",
       "    <tr>\n",
       "      <th>Subaru</th>\n",
       "      <td>1605</td>\n",
       "    </tr>\n",
       "    <tr>\n",
       "      <th>Mazda</th>\n",
       "      <td>1475</td>\n",
       "    </tr>\n",
       "    <tr>\n",
       "      <th>Dodge</th>\n",
       "      <td>1345</td>\n",
       "    </tr>\n",
       "    <tr>\n",
       "      <th>Porsche</th>\n",
       "      <td>1344</td>\n",
       "    </tr>\n",
       "    <tr>\n",
       "      <th>Lincoln</th>\n",
       "      <td>1324</td>\n",
       "    </tr>\n",
       "    <tr>\n",
       "      <th>Cadillac</th>\n",
       "      <td>1311</td>\n",
       "    </tr>\n",
       "    <tr>\n",
       "      <th>Volvo</th>\n",
       "      <td>1231</td>\n",
       "    </tr>\n",
       "    <tr>\n",
       "      <th>Jeep</th>\n",
       "      <td>1196</td>\n",
       "    </tr>\n",
       "    <tr>\n",
       "      <th>Acura</th>\n",
       "      <td>1174</td>\n",
       "    </tr>\n",
       "    <tr>\n",
       "      <th>Jaguar</th>\n",
       "      <td>1062</td>\n",
       "    </tr>\n",
       "    <tr>\n",
       "      <th>MINI</th>\n",
       "      <td>1059</td>\n",
       "    </tr>\n",
       "    <tr>\n",
       "      <th>Buick</th>\n",
       "      <td>964</td>\n",
       "    </tr>\n",
       "    <tr>\n",
       "      <th>Land Rover</th>\n",
       "      <td>960</td>\n",
       "    </tr>\n",
       "    <tr>\n",
       "      <th>INFINITI</th>\n",
       "      <td>917</td>\n",
       "    </tr>\n",
       "    <tr>\n",
       "      <th>FIAT</th>\n",
       "      <td>892</td>\n",
       "    </tr>\n",
       "    <tr>\n",
       "      <th>Ram</th>\n",
       "      <td>747</td>\n",
       "    </tr>\n",
       "    <tr>\n",
       "      <th>Bentley</th>\n",
       "      <td>697</td>\n",
       "    </tr>\n",
       "    <tr>\n",
       "      <th>Mitsubishi</th>\n",
       "      <td>644</td>\n",
       "    </tr>\n",
       "    <tr>\n",
       "      <th>Aston Martin</th>\n",
       "      <td>574</td>\n",
       "    </tr>\n",
       "    <tr>\n",
       "      <th>Chrysler</th>\n",
       "      <td>570</td>\n",
       "    </tr>\n",
       "    <tr>\n",
       "      <th>Maserati</th>\n",
       "      <td>449</td>\n",
       "    </tr>\n",
       "    <tr>\n",
       "      <th>smart</th>\n",
       "      <td>386</td>\n",
       "    </tr>\n",
       "    <tr>\n",
       "      <th>Alfa Romeo</th>\n",
       "      <td>290</td>\n",
       "    </tr>\n",
       "    <tr>\n",
       "      <th>Rolls-Royce</th>\n",
       "      <td>277</td>\n",
       "    </tr>\n",
       "    <tr>\n",
       "      <th>Lamborghini</th>\n",
       "      <td>251</td>\n",
       "    </tr>\n",
       "    <tr>\n",
       "      <th>Tesla</th>\n",
       "      <td>191</td>\n",
       "    </tr>\n",
       "    <tr>\n",
       "      <th>Genesis</th>\n",
       "      <td>176</td>\n",
       "    </tr>\n",
       "    <tr>\n",
       "      <th>Ferrari</th>\n",
       "      <td>91</td>\n",
       "    </tr>\n",
       "    <tr>\n",
       "      <th>McLaren</th>\n",
       "      <td>72</td>\n",
       "    </tr>\n",
       "    <tr>\n",
       "      <th>imagenes</th>\n",
       "      <td>1</td>\n",
       "    </tr>\n",
       "  </tbody>\n",
       "</table>\n",
       "</div>"
      ],
      "text/plain": [
       "               Lista_imagenes\n",
       "Marca                        \n",
       "Chevrolet                5079\n",
       "Toyota                   4598\n",
       "Ford                     4416\n",
       "BMW                      4121\n",
       "Nissan                   3881\n",
       "Audi                     3131\n",
       "Mercedes-Benz            3097\n",
       "Honda                    2675\n",
       "Kia                      2160\n",
       "Lexus                    2125\n",
       "Hyundai                  2091\n",
       "GMC                      2067\n",
       "Volkswagen               1752\n",
       "Subaru                   1605\n",
       "Mazda                    1475\n",
       "Dodge                    1345\n",
       "Porsche                  1344\n",
       "Lincoln                  1324\n",
       "Cadillac                 1311\n",
       "Volvo                    1231\n",
       "Jeep                     1196\n",
       "Acura                    1174\n",
       "Jaguar                   1062\n",
       "MINI                     1059\n",
       "Buick                     964\n",
       "Land Rover                960\n",
       "INFINITI                  917\n",
       "FIAT                      892\n",
       "Ram                       747\n",
       "Bentley                   697\n",
       "Mitsubishi                644\n",
       "Aston Martin              574\n",
       "Chrysler                  570\n",
       "Maserati                  449\n",
       "smart                     386\n",
       "Alfa Romeo                290\n",
       "Rolls-Royce               277\n",
       "Lamborghini               251\n",
       "Tesla                     191\n",
       "Genesis                   176\n",
       "Ferrari                    91\n",
       "McLaren                    72\n",
       "imagenes                    1"
      ]
     },
     "execution_count": 11,
     "metadata": {},
     "output_type": "execute_result"
    }
   ],
   "source": [
    "df.groupby(\"Marca\").count().sort_values(by = 'Lista_imagenes', ascending = False)"
   ]
  },
  {
   "cell_type": "markdown",
   "metadata": {},
   "source": [
    "## MODELO DE CLASIFICACIÓN DE DOS CLASES"
   ]
  },
  {
   "cell_type": "code",
   "execution_count": 12,
   "metadata": {},
   "outputs": [],
   "source": [
    "marcas_filtradas = ['Volvo','Jeep']\n",
    "df_seleccion = df.loc[df['Marca'].isin(marcas_filtradas)].reset_index().drop(\"index\", axis = 1)"
   ]
  },
  {
   "cell_type": "markdown",
   "metadata": {},
   "source": [
    "Nos quedamos con las clases seleccionadas, que son clases reconocidas y con un número satisfactorio de imágenes por marca, suficientes\n",
    "para entrenar un modelo decente. Otra de las razones por la elección de estas marcas es por su similitud en el número de imágenes, para intentar conseguir que las clases estén lo más balanceadas posible."
   ]
  },
  {
   "cell_type": "code",
   "execution_count": 13,
   "metadata": {},
   "outputs": [
    {
     "data": {
      "text/html": [
       "<div>\n",
       "<style scoped>\n",
       "    .dataframe tbody tr th:only-of-type {\n",
       "        vertical-align: middle;\n",
       "    }\n",
       "\n",
       "    .dataframe tbody tr th {\n",
       "        vertical-align: top;\n",
       "    }\n",
       "\n",
       "    .dataframe thead th {\n",
       "        text-align: right;\n",
       "    }\n",
       "</style>\n",
       "<table border=\"1\" class=\"dataframe\">\n",
       "  <thead>\n",
       "    <tr style=\"text-align: right;\">\n",
       "      <th></th>\n",
       "      <th>Lista_imagenes</th>\n",
       "      <th>Marca</th>\n",
       "    </tr>\n",
       "  </thead>\n",
       "  <tbody>\n",
       "    <tr>\n",
       "      <th>0</th>\n",
       "      <td>Volvo_S90_2019_49_18_250_20_4_74_57_200_22_AWD...</td>\n",
       "      <td>Volvo</td>\n",
       "    </tr>\n",
       "    <tr>\n",
       "      <th>1</th>\n",
       "      <td>Jeep_Wrangler_2014_28_18_280_36_6_73_72_163_na...</td>\n",
       "      <td>Jeep</td>\n",
       "    </tr>\n",
       "    <tr>\n",
       "      <th>2</th>\n",
       "      <td>Volvo_XC90_2016_53_20_250_20_4_79_69_194_22_AW...</td>\n",
       "      <td>Volvo</td>\n",
       "    </tr>\n",
       "    <tr>\n",
       "      <th>3</th>\n",
       "      <td>Volvo_V60_2020_45_18_250_20_4_72_56_187_23_FWD...</td>\n",
       "      <td>Volvo</td>\n",
       "    </tr>\n",
       "    <tr>\n",
       "      <th>4</th>\n",
       "      <td>Volvo_XC90_2013_39_18_240_32_6_74_70_189_16_AW...</td>\n",
       "      <td>Volvo</td>\n",
       "    </tr>\n",
       "  </tbody>\n",
       "</table>\n",
       "</div>"
      ],
      "text/plain": [
       "                                      Lista_imagenes  Marca\n",
       "0  Volvo_S90_2019_49_18_250_20_4_74_57_200_22_AWD...  Volvo\n",
       "1  Jeep_Wrangler_2014_28_18_280_36_6_73_72_163_na...   Jeep\n",
       "2  Volvo_XC90_2016_53_20_250_20_4_79_69_194_22_AW...  Volvo\n",
       "3  Volvo_V60_2020_45_18_250_20_4_72_56_187_23_FWD...  Volvo\n",
       "4  Volvo_XC90_2013_39_18_240_32_6_74_70_189_16_AW...  Volvo"
      ]
     },
     "execution_count": 13,
     "metadata": {},
     "output_type": "execute_result"
    }
   ],
   "source": [
    "df_seleccion.head()"
   ]
  },
  {
   "cell_type": "code",
   "execution_count": 14,
   "metadata": {},
   "outputs": [],
   "source": [
    "#Se convierten las imágenes a array, normalizándolas y con un tamaño por defecto de 128x128\n",
    "\n",
    "from keras.preprocessing.image import ImageDataGenerator\n",
    "\n",
    "datagen = ImageDataGenerator(rescale = 1./255, \n",
    "                             validation_split = 0.2)\n",
    "\n",
    "batch_size = 20 \n",
    " \n",
    "train_generator = datagen.flow_from_dataframe(dataframe = df_seleccion,\n",
    "                                              directory = directorio_carpeta,\n",
    "                                              x_col = 'Lista_imagenes',\n",
    "                                              y_col = 'Marca',\n",
    "                                              class_mode = 'categorical',\n",
    "                                              batch_size = batch_size,\n",
    "                                              subset = 'training',\n",
    "                                              target_size=(128, 128))\n",
    "\n",
    "\n",
    "valid_generator = datagen.flow_from_dataframe(dataframe = df_seleccion,\n",
    "                                              directory = directorio_carpeta,\n",
    "                                              x_col = 'Lista_imagenes',\n",
    "                                              y_col = 'Marca',\n",
    "                                              class_mode = 'categorical',\n",
    "                                              batch_size = batch_size,\n",
    "                                              subset = 'validation',\n",
    "                                              target_size=(128, 128))"
   ]
  },
  {
   "cell_type": "markdown",
   "metadata": {},
   "source": [
    "## PRIMER MODELO CNN"
   ]
  },
  {
   "cell_type": "markdown",
   "metadata": {},
   "source": [
    "Primero, se crea un modelo \"sencillo\" a partir del modelo que se encuentra en la práctica 5b realizada en clase, a partir del cual, se intentará mejorar modificando los parámetros a la hora de modificar el número de capas convolucionales, añadiéndole padding, otras funciones de activación, etc. Tras esto, se le aplicará a cada modelo un data augmentation para comparar los rendimientos del modelo sin augmentation y con augmentation."
   ]
  },
  {
   "cell_type": "markdown",
   "metadata": {},
   "source": [
    "Como se puede observar, este primer modelo cuenta con una primera capa con 32 filtros, señalándole que se trata de imágenes a color introduciéndole profundidad 3. Estos filtros tendrán tamaño de 3x3 y la función de activación será una ReLu. Tras ello, se introduce el MaxPooling, como es habitual, para reducir las dimensiones de las imágenes y eliminar información redundante. Otras dos capas convolucionales y de pooling se añaden, una de 64 filtros y otra de 128 filtros, encargadas de extrar detalles más finos de las imágenes y poder clasificarlas mejor. La última parte de trata del clasificador, con el primer paso un flatten para convertir toda la información a vector y luego una capa densa con 64 neuronas que será el clasificador en sí, teniendo como función de activación una sigmoidal."
   ]
  },
  {
   "cell_type": "code",
   "execution_count": 16,
   "metadata": {},
   "outputs": [],
   "source": [
    "clases = len(marcas_filtradas)\n",
    "\n",
    "model = models.Sequential()\n",
    "model.add(layers.Conv2D(32, (3, 3), activation='relu',\n",
    "                        input_shape=(128, 128, 3)))\n",
    "model.add(layers.MaxPooling2D((2, 2)))\n",
    "model.add(layers.Conv2D(64, (3, 3), activation='relu'))\n",
    "model.add(layers.MaxPooling2D((2, 2)))\n",
    "model.add(layers.Conv2D(128, (3, 3), activation='relu'))\n",
    "model.add(layers.MaxPooling2D((2, 2)))\n",
    "model.add(layers.Flatten())\n",
    "model.add(layers.Dense(64, activation='relu'))\n",
    "model.add(Dense(clases, activation = 'sigmoid'))"
   ]
  },
  {
   "cell_type": "code",
   "execution_count": 17,
   "metadata": {},
   "outputs": [
    {
     "name": "stdout",
     "output_type": "stream",
     "text": [
      "Model: \"sequential\"\n",
      "_________________________________________________________________\n",
      "Layer (type)                 Output Shape              Param #   \n",
      "=================================================================\n",
      "conv2d (Conv2D)              (None, 126, 126, 32)      896       \n",
      "_________________________________________________________________\n",
      "max_pooling2d (MaxPooling2D) (None, 63, 63, 32)        0         \n",
      "_________________________________________________________________\n",
      "conv2d_1 (Conv2D)            (None, 61, 61, 64)        18496     \n",
      "_________________________________________________________________\n",
      "max_pooling2d_1 (MaxPooling2 (None, 30, 30, 64)        0         \n",
      "_________________________________________________________________\n",
      "conv2d_2 (Conv2D)            (None, 28, 28, 128)       73856     \n",
      "_________________________________________________________________\n",
      "max_pooling2d_2 (MaxPooling2 (None, 14, 14, 128)       0         \n",
      "_________________________________________________________________\n",
      "flatten (Flatten)            (None, 25088)             0         \n",
      "_________________________________________________________________\n",
      "dense (Dense)                (None, 64)                1605696   \n",
      "_________________________________________________________________\n",
      "dense_1 (Dense)              (None, 2)                 130       \n",
      "=================================================================\n",
      "Total params: 1,699,074\n",
      "Trainable params: 1,699,074\n",
      "Non-trainable params: 0\n",
      "_________________________________________________________________\n"
     ]
    }
   ],
   "source": [
    "model.summary()"
   ]
  },
  {
   "cell_type": "markdown",
   "metadata": {},
   "source": [
    "Se obtiene un modelo con aproximadamente 1.7 millones de parámetros, una cantidad elevada que podría suponer sobreentrenamiento. Esto se comprobará una vez se ha entrenado el modelo con la precisión del conjunto de validación. A la hora de entrenar el modelo, se introducen 50 épocas con 20 pasos por época. "
   ]
  },
  {
   "cell_type": "code",
   "execution_count": 18,
   "metadata": {},
   "outputs": [],
   "source": [
    "model.compile(loss = 'categorical_crossentropy',\n",
    "              optimizer = optimizers.RMSprop(lr=1e-4),\n",
    "              metrics = ['accuracy'])"
   ]
  },
  {
   "cell_type": "code",
   "execution_count": 19,
   "metadata": {},
   "outputs": [
    {
     "name": "stdout",
     "output_type": "stream",
     "text": [
      "Epoch 1/50\n",
      "20/20 [==============================] - 6s 255ms/step - loss: 0.7068 - accuracy: 0.4968 - val_loss: 0.6896 - val_accuracy: 0.5072\n",
      "Epoch 2/50\n",
      "20/20 [==============================] - 4s 203ms/step - loss: 0.6882 - accuracy: 0.5254 - val_loss: 0.6934 - val_accuracy: 0.4907\n",
      "Epoch 3/50\n",
      "20/20 [==============================] - 4s 208ms/step - loss: 0.6792 - accuracy: 0.5704 - val_loss: 0.6693 - val_accuracy: 0.6186\n",
      "Epoch 4/50\n",
      "20/20 [==============================] - 4s 202ms/step - loss: 0.6675 - accuracy: 0.6149 - val_loss: 0.6670 - val_accuracy: 0.5918\n",
      "Epoch 5/50\n",
      "20/20 [==============================] - 4s 201ms/step - loss: 0.6600 - accuracy: 0.6320 - val_loss: 0.6864 - val_accuracy: 0.5093\n",
      "Epoch 6/50\n",
      "20/20 [==============================] - 4s 201ms/step - loss: 0.6488 - accuracy: 0.6229 - val_loss: 0.6273 - val_accuracy: 0.6825\n",
      "Epoch 7/50\n",
      "20/20 [==============================] - 4s 195ms/step - loss: 0.6204 - accuracy: 0.6844 - val_loss: 0.6327 - val_accuracy: 0.6309\n",
      "Epoch 8/50\n",
      "20/20 [==============================] - 4s 204ms/step - loss: 0.6452 - accuracy: 0.6098 - val_loss: 0.6214 - val_accuracy: 0.6351\n",
      "Epoch 9/50\n",
      "20/20 [==============================] - 4s 196ms/step - loss: 0.5813 - accuracy: 0.7179 - val_loss: 0.6064 - val_accuracy: 0.6454\n",
      "Epoch 10/50\n",
      "20/20 [==============================] - 4s 205ms/step - loss: 0.5820 - accuracy: 0.6937 - val_loss: 0.5864 - val_accuracy: 0.6825\n",
      "Epoch 11/50\n",
      "20/20 [==============================] - 4s 202ms/step - loss: 0.5941 - accuracy: 0.6812 - val_loss: 0.5735 - val_accuracy: 0.7155\n",
      "Epoch 12/50\n",
      "20/20 [==============================] - 4s 201ms/step - loss: 0.5876 - accuracy: 0.6856 - val_loss: 0.5579 - val_accuracy: 0.7278\n",
      "Epoch 13/50\n",
      "20/20 [==============================] - 4s 205ms/step - loss: 0.5760 - accuracy: 0.7038 - val_loss: 0.5500 - val_accuracy: 0.7113\n",
      "Epoch 14/50\n",
      "20/20 [==============================] - 4s 205ms/step - loss: 0.5376 - accuracy: 0.7310 - val_loss: 0.5380 - val_accuracy: 0.7505\n",
      "Epoch 15/50\n",
      "20/20 [==============================] - 4s 201ms/step - loss: 0.5440 - accuracy: 0.7288 - val_loss: 0.5749 - val_accuracy: 0.6784\n",
      "Epoch 16/50\n",
      "20/20 [==============================] - 4s 207ms/step - loss: 0.5100 - accuracy: 0.7538 - val_loss: 0.5222 - val_accuracy: 0.7175\n",
      "Epoch 17/50\n",
      "20/20 [==============================] - 4s 204ms/step - loss: 0.5066 - accuracy: 0.7586 - val_loss: 0.5116 - val_accuracy: 0.7278\n",
      "Epoch 18/50\n",
      "20/20 [==============================] - 4s 203ms/step - loss: 0.4676 - accuracy: 0.7678 - val_loss: 0.5478 - val_accuracy: 0.6887\n",
      "Epoch 19/50\n",
      "20/20 [==============================] - 4s 212ms/step - loss: 0.4665 - accuracy: 0.7920 - val_loss: 0.4777 - val_accuracy: 0.7691\n",
      "Epoch 20/50\n",
      "20/20 [==============================] - 4s 205ms/step - loss: 0.4558 - accuracy: 0.8109 - val_loss: 0.4687 - val_accuracy: 0.7938\n",
      "Epoch 21/50\n",
      "20/20 [==============================] - 4s 214ms/step - loss: 0.4179 - accuracy: 0.8192 - val_loss: 0.4943 - val_accuracy: 0.7670\n",
      "Epoch 22/50\n",
      "20/20 [==============================] - 4s 215ms/step - loss: 0.4096 - accuracy: 0.8326 - val_loss: 0.6190 - val_accuracy: 0.6660\n",
      "Epoch 23/50\n",
      "20/20 [==============================] - 4s 224ms/step - loss: 0.4110 - accuracy: 0.7951 - val_loss: 0.9493 - val_accuracy: 0.5443\n",
      "Epoch 24/50\n",
      "20/20 [==============================] - 4s 218ms/step - loss: 0.4851 - accuracy: 0.7904 - val_loss: 0.4178 - val_accuracy: 0.8124\n",
      "Epoch 25/50\n",
      "20/20 [==============================] - 4s 219ms/step - loss: 0.3446 - accuracy: 0.8656 - val_loss: 0.4272 - val_accuracy: 0.7897\n",
      "Epoch 26/50\n",
      "20/20 [==============================] - 4s 220ms/step - loss: 0.3925 - accuracy: 0.8447 - val_loss: 0.4077 - val_accuracy: 0.7959\n",
      "Epoch 27/50\n",
      "20/20 [==============================] - 4s 219ms/step - loss: 0.3741 - accuracy: 0.8398 - val_loss: 0.4544 - val_accuracy: 0.7423\n",
      "Epoch 28/50\n",
      "20/20 [==============================] - 4s 217ms/step - loss: 0.3760 - accuracy: 0.8103 - val_loss: 0.4488 - val_accuracy: 0.8186\n",
      "Epoch 29/50\n",
      "20/20 [==============================] - 5s 228ms/step - loss: 0.3054 - accuracy: 0.8874 - val_loss: 0.5150 - val_accuracy: 0.7361\n",
      "Epoch 30/50\n",
      "20/20 [==============================] - 4s 218ms/step - loss: 0.3755 - accuracy: 0.8258 - val_loss: 0.3945 - val_accuracy: 0.8515\n",
      "Epoch 31/50\n",
      "20/20 [==============================] - 4s 219ms/step - loss: 0.3312 - accuracy: 0.8536 - val_loss: 0.3918 - val_accuracy: 0.8515\n",
      "Epoch 32/50\n",
      "20/20 [==============================] - 4s 224ms/step - loss: 0.2770 - accuracy: 0.8771 - val_loss: 0.3738 - val_accuracy: 0.8186\n",
      "Epoch 33/50\n",
      "20/20 [==============================] - 4s 217ms/step - loss: 0.3497 - accuracy: 0.8638 - val_loss: 0.3979 - val_accuracy: 0.8289\n",
      "Epoch 34/50\n",
      "20/20 [==============================] - 4s 213ms/step - loss: 0.3530 - accuracy: 0.8758 - val_loss: 0.3726 - val_accuracy: 0.8515\n",
      "Epoch 35/50\n",
      "20/20 [==============================] - 4s 205ms/step - loss: 0.2443 - accuracy: 0.9166 - val_loss: 0.3504 - val_accuracy: 0.8619\n",
      "Epoch 36/50\n",
      "20/20 [==============================] - 4s 204ms/step - loss: 0.2662 - accuracy: 0.9103 - val_loss: 0.3438 - val_accuracy: 0.8474\n",
      "Epoch 37/50\n",
      "20/20 [==============================] - 4s 207ms/step - loss: 0.1967 - accuracy: 0.9435 - val_loss: 0.3545 - val_accuracy: 0.8536\n",
      "Epoch 38/50\n",
      "20/20 [==============================] - 4s 205ms/step - loss: 0.2438 - accuracy: 0.9010 - val_loss: 0.3654 - val_accuracy: 0.8433\n",
      "Epoch 39/50\n",
      "20/20 [==============================] - 4s 205ms/step - loss: 0.2265 - accuracy: 0.9216 - val_loss: 0.3344 - val_accuracy: 0.8701\n",
      "Epoch 40/50\n",
      "20/20 [==============================] - 4s 202ms/step - loss: 0.2253 - accuracy: 0.9384 - val_loss: 0.3651 - val_accuracy: 0.8330\n",
      "Epoch 41/50\n",
      "20/20 [==============================] - 4s 205ms/step - loss: 0.1936 - accuracy: 0.9270 - val_loss: 0.3669 - val_accuracy: 0.8619\n",
      "Epoch 42/50\n",
      "20/20 [==============================] - 4s 203ms/step - loss: 0.2234 - accuracy: 0.9124 - val_loss: 0.3764 - val_accuracy: 0.8536\n",
      "Epoch 43/50\n",
      "20/20 [==============================] - 4s 204ms/step - loss: 0.2197 - accuracy: 0.9099 - val_loss: 0.4033 - val_accuracy: 0.8351\n",
      "Epoch 44/50\n",
      "20/20 [==============================] - 4s 208ms/step - loss: 0.2113 - accuracy: 0.9073 - val_loss: 0.3272 - val_accuracy: 0.8680\n",
      "Epoch 45/50\n",
      "20/20 [==============================] - 4s 202ms/step - loss: 0.1977 - accuracy: 0.9129 - val_loss: 0.3411 - val_accuracy: 0.8660\n",
      "Epoch 46/50\n",
      "20/20 [==============================] - 4s 208ms/step - loss: 0.1892 - accuracy: 0.9171 - val_loss: 0.3282 - val_accuracy: 0.8660\n",
      "Epoch 47/50\n",
      "20/20 [==============================] - 4s 206ms/step - loss: 0.2115 - accuracy: 0.9119 - val_loss: 0.3137 - val_accuracy: 0.8680\n",
      "Epoch 48/50\n",
      "20/20 [==============================] - 4s 203ms/step - loss: 0.1727 - accuracy: 0.9459 - val_loss: 0.3147 - val_accuracy: 0.8598\n",
      "Epoch 49/50\n",
      "20/20 [==============================] - 4s 208ms/step - loss: 0.1264 - accuracy: 0.9514 - val_loss: 0.3388 - val_accuracy: 0.8825\n",
      "Epoch 50/50\n",
      "20/20 [==============================] - 4s 211ms/step - loss: 0.1265 - accuracy: 0.9547 - val_loss: 0.4009 - val_accuracy: 0.8309\n"
     ]
    }
   ],
   "source": [
    "history = model.fit(train_generator,\n",
    "                     steps_per_epoch=20,\n",
    "                     epochs = 50,  \n",
    "                     validation_data = valid_generator)"
   ]
  },
  {
   "cell_type": "code",
   "execution_count": 20,
   "metadata": {},
   "outputs": [],
   "source": [
    "model.save('model_1.h5')"
   ]
  },
  {
   "cell_type": "code",
   "execution_count": 21,
   "metadata": {},
   "outputs": [
    {
     "data": {
      "image/png": "[encoded data removed]",
      "text/plain": [
       "<Figure size 432x288 with 1 Axes>"
      ]
     },
     "metadata": {
      "needs_background": "light"
     },
     "output_type": "display_data"
    },
    {
     "data": {
      "image/png": "[encoded data removed]",
      "text/plain": [
       "<Figure size 432x288 with 1 Axes>"
      ]
     },
     "metadata": {
      "needs_background": "light"
     },
     "output_type": "display_data"
    }
   ],
   "source": [
    "# summarize history for accuracy\n",
    "plt.plot(history.history['accuracy'])\n",
    "plt.plot(history.history['val_accuracy'])\n",
    "plt.title('model accuracy')\n",
    "plt.ylabel('accuracy')\n",
    "plt.xlabel('epoch')\n",
    "plt.legend(['train', 'test'], loc='upper left')\n",
    "plt.show()\n",
    "# summarize history for loss\n",
    "plt.plot(history.history['loss'])\n",
    "plt.plot(history.history['val_loss'])\n",
    "plt.title('model loss')\n",
    "plt.ylabel('loss')\n",
    "plt.xlabel('epoch')\n",
    "plt.legend(['train', 'test'], loc='upper left')\n",
    "plt.show()"
   ]
  },
  {
   "cell_type": "markdown",
   "metadata": {},
   "source": [
    "Como se había deducido anteriormente, el alto número de parámetros ha provocado un cierto sobreentrenamiento, como vemos en los valores medios de la accuracy en entrenamiento y validación del modelo a partir en las ultimas épocas, ya que es el punto donde las gráficas de entrenamiento y validación se separan de forma notable. Esto se intentará solucionar con los modelos siguientes, en los que se le introducirá cambios en las capas convolucionales."
   ]
  },
  {
   "cell_type": "markdown",
   "metadata": {},
   "source": [
    "Una de las posibilidades de mejora del modelo es el introducir data augmentation, ya que con esto conseguimos que 'aumente' de forma artificial el número de imágenes en el conjunto de entrenamiento, y así conseguir controlar el sobreentrenamiento. Los parámetros del data augmentation se muestran a continuación, donde se controla especialemte el parámetro de ángulo de rotación de las fotos, ya que si es muy elevado, podría confundir entre clases o incluso pensar que no es un coche."
   ]
  },
  {
   "cell_type": "code",
   "execution_count": 12,
   "metadata": {},
   "outputs": [],
   "source": [
    "train_datagen = ImageDataGenerator(\n",
    "    rescale = 1./255,\n",
    "    rotation_range = 20,\n",
    "    width_shift_range = 0.1,\n",
    "    height_shift_range = 0.1,\n",
    "    shear_range = 0.1,\n",
    "    zoom_range = 0.2,\n",
    "    horizontal_flip = True,\n",
    "    validation_split = 0.2,\n",
    "    fill_mode = 'nearest')"
   ]
  },
  {
   "cell_type": "code",
   "execution_count": 23,
   "metadata": {},
   "outputs": [
    {
     "name": "stdout",
     "output_type": "stream",
     "text": [
      "Found 1942 validated image filenames belonging to 2 classes.\n",
      "Found 485 validated image filenames belonging to 2 classes.\n"
     ]
    }
   ],
   "source": [
    "train_generator2 = train_datagen.flow_from_dataframe(dataframe = df_seleccion,\n",
    "                                                    directory = directorio_carpeta,\n",
    "                                                    x_col = 'Lista_imagenes',\n",
    "                                                    y_col = 'Marca',\n",
    "                                                    class_mode = 'categorical',\n",
    "                                                    batch_size = batch_size,\n",
    "                                                    subset = 'training',\n",
    "                                                    target_size = (128, 128))\n",
    "\n",
    "valid_generator2 = datagen.flow_from_dataframe(dataframe = df_seleccion,\n",
    "                                              directory = directorio_carpeta,\n",
    "                                              x_col = 'Lista_imagenes',\n",
    "                                              y_col = 'Marca',\n",
    "                                              class_mode = 'categorical',\n",
    "                                              batch_size = batch_size,\n",
    "                                              subset = 'validation',\n",
    "                                              target_size = (128, 128))"
   ]
  },
  {
   "cell_type": "code",
   "execution_count": 24,
   "metadata": {},
   "outputs": [],
   "source": [
    "clases = len(marcas_filtradas)\n",
    "\n",
    "modelB = models.Sequential()\n",
    "modelB.add(layers.Conv2D(32, (3, 3), activation='relu',\n",
    "                        input_shape=(128, 128, 3)))\n",
    "modelB.add(layers.MaxPooling2D((2, 2)))\n",
    "modelB.add(layers.Conv2D(64, (3, 3), activation='relu'))\n",
    "modelB.add(layers.MaxPooling2D((2, 2)))\n",
    "modelB.add(layers.Conv2D(128, (3, 3), activation='relu'))\n",
    "modelB.add(layers.MaxPooling2D((2, 2)))\n",
    "modelB.add(layers.Flatten())\n",
    "modelB.add(layers.Dense(64, activation='relu'))\n",
    "modelB.add(Dense(clases, activation = 'sigmoid'))"
   ]
  },
  {
   "cell_type": "code",
   "execution_count": 25,
   "metadata": {},
   "outputs": [],
   "source": [
    "modelB.compile(loss = 'categorical_crossentropy',\n",
    "              optimizer = optimizers.RMSprop(lr=1e-4),\n",
    "              metrics = ['accuracy'])"
   ]
  },
  {
   "cell_type": "code",
   "execution_count": 26,
   "metadata": {},
   "outputs": [
    {
     "name": "stdout",
     "output_type": "stream",
     "text": [
      "Epoch 1/50\n",
      "20/20 [==============================] - 5s 219ms/step - loss: 0.7521 - accuracy: 0.5005 - val_loss: 0.6952 - val_accuracy: 0.5093\n",
      "Epoch 2/50\n",
      "20/20 [==============================] - 4s 216ms/step - loss: 0.6997 - accuracy: 0.4641 - val_loss: 0.7011 - val_accuracy: 0.5093\n",
      "Epoch 3/50\n",
      "20/20 [==============================] - 4s 213ms/step - loss: 0.7093 - accuracy: 0.4572 - val_loss: 0.6891 - val_accuracy: 0.5093\n",
      "Epoch 4/50\n",
      "20/20 [==============================] - 4s 213ms/step - loss: 0.6849 - accuracy: 0.5469 - val_loss: 0.6859 - val_accuracy: 0.5464\n",
      "Epoch 5/50\n",
      "20/20 [==============================] - 4s 210ms/step - loss: 0.6880 - accuracy: 0.5631 - val_loss: 0.6843 - val_accuracy: 0.6309\n",
      "Epoch 6/50\n",
      "20/20 [==============================] - 4s 209ms/step - loss: 0.6836 - accuracy: 0.5776 - val_loss: 0.6832 - val_accuracy: 0.5299\n",
      "Epoch 7/50\n",
      "20/20 [==============================] - 4s 212ms/step - loss: 0.6880 - accuracy: 0.5473 - val_loss: 0.6779 - val_accuracy: 0.5443\n",
      "Epoch 8/50\n",
      "20/20 [==============================] - 4s 214ms/step - loss: 0.6862 - accuracy: 0.5469 - val_loss: 0.6745 - val_accuracy: 0.6082\n",
      "Epoch 9/50\n",
      "20/20 [==============================] - 4s 217ms/step - loss: 0.6792 - accuracy: 0.5568 - val_loss: 0.6690 - val_accuracy: 0.6247\n",
      "Epoch 10/50\n",
      "20/20 [==============================] - 4s 222ms/step - loss: 0.6744 - accuracy: 0.5645 - val_loss: 0.6687 - val_accuracy: 0.5979\n",
      "Epoch 11/50\n",
      "20/20 [==============================] - 5s 238ms/step - loss: 0.6703 - accuracy: 0.5992 - val_loss: 0.6678 - val_accuracy: 0.5835\n",
      "Epoch 12/50\n",
      "20/20 [==============================] - 4s 220ms/step - loss: 0.6777 - accuracy: 0.5479 - val_loss: 0.6564 - val_accuracy: 0.6289\n",
      "Epoch 13/50\n",
      "20/20 [==============================] - 4s 220ms/step - loss: 0.6729 - accuracy: 0.5842 - val_loss: 0.6505 - val_accuracy: 0.6082\n",
      "Epoch 14/50\n",
      "20/20 [==============================] - 5s 224ms/step - loss: 0.6507 - accuracy: 0.6020 - val_loss: 0.6463 - val_accuracy: 0.6351\n",
      "Epoch 15/50\n",
      "20/20 [==============================] - 4s 221ms/step - loss: 0.6752 - accuracy: 0.5409 - val_loss: 0.6451 - val_accuracy: 0.6062\n",
      "Epoch 16/50\n",
      "20/20 [==============================] - 4s 217ms/step - loss: 0.6699 - accuracy: 0.5985 - val_loss: 0.6414 - val_accuracy: 0.6021\n",
      "Epoch 17/50\n",
      "20/20 [==============================] - 5s 224ms/step - loss: 0.6576 - accuracy: 0.5637 - val_loss: 0.6388 - val_accuracy: 0.6247\n",
      "Epoch 18/50\n",
      "20/20 [==============================] - 4s 217ms/step - loss: 0.6626 - accuracy: 0.5516 - val_loss: 0.6641 - val_accuracy: 0.5567\n",
      "Epoch 19/50\n",
      "20/20 [==============================] - 4s 217ms/step - loss: 0.6361 - accuracy: 0.6292 - val_loss: 0.6367 - val_accuracy: 0.6186\n",
      "Epoch 20/50\n",
      "20/20 [==============================] - 4s 216ms/step - loss: 0.6676 - accuracy: 0.5505 - val_loss: 0.6291 - val_accuracy: 0.6412\n",
      "Epoch 21/50\n",
      "20/20 [==============================] - 4s 213ms/step - loss: 0.6509 - accuracy: 0.6135 - val_loss: 0.6267 - val_accuracy: 0.6412\n",
      "Epoch 22/50\n",
      "20/20 [==============================] - 4s 222ms/step - loss: 0.6405 - accuracy: 0.5860 - val_loss: 0.6211 - val_accuracy: 0.6474\n",
      "Epoch 23/50\n",
      "20/20 [==============================] - 4s 208ms/step - loss: 0.6353 - accuracy: 0.6453 - val_loss: 0.6168 - val_accuracy: 0.6474\n",
      "Epoch 24/50\n",
      "20/20 [==============================] - 4s 216ms/step - loss: 0.6331 - accuracy: 0.6605 - val_loss: 0.6294 - val_accuracy: 0.6144\n",
      "Epoch 25/50\n",
      "20/20 [==============================] - 4s 215ms/step - loss: 0.6574 - accuracy: 0.6119 - val_loss: 0.6172 - val_accuracy: 0.6371\n",
      "Epoch 26/50\n",
      "20/20 [==============================] - 4s 210ms/step - loss: 0.6244 - accuracy: 0.6581 - val_loss: 0.6116 - val_accuracy: 0.6577\n",
      "Epoch 27/50\n",
      "20/20 [==============================] - 4s 209ms/step - loss: 0.6381 - accuracy: 0.6509 - val_loss: 0.6075 - val_accuracy: 0.6536\n",
      "Epoch 28/50\n",
      "20/20 [==============================] - 4s 216ms/step - loss: 0.6254 - accuracy: 0.6593 - val_loss: 0.6083 - val_accuracy: 0.6598\n",
      "Epoch 29/50\n",
      "20/20 [==============================] - 4s 214ms/step - loss: 0.6171 - accuracy: 0.6590 - val_loss: 0.6057 - val_accuracy: 0.6371\n",
      "Epoch 30/50\n",
      "20/20 [==============================] - 4s 212ms/step - loss: 0.6409 - accuracy: 0.6240 - val_loss: 0.6079 - val_accuracy: 0.6495\n",
      "Epoch 31/50\n",
      "20/20 [==============================] - 4s 217ms/step - loss: 0.6015 - accuracy: 0.6334 - val_loss: 0.6261 - val_accuracy: 0.6289\n",
      "Epoch 32/50\n",
      "20/20 [==============================] - 4s 220ms/step - loss: 0.6285 - accuracy: 0.6314 - val_loss: 0.5958 - val_accuracy: 0.6474\n",
      "Epoch 33/50\n",
      "20/20 [==============================] - 4s 219ms/step - loss: 0.5881 - accuracy: 0.6886 - val_loss: 0.5869 - val_accuracy: 0.6825\n",
      "Epoch 34/50\n",
      "20/20 [==============================] - 4s 218ms/step - loss: 0.5965 - accuracy: 0.6869 - val_loss: 0.5849 - val_accuracy: 0.6825\n",
      "Epoch 35/50\n",
      "20/20 [==============================] - 4s 212ms/step - loss: 0.6150 - accuracy: 0.6296 - val_loss: 0.5900 - val_accuracy: 0.6825\n",
      "Epoch 36/50\n",
      "20/20 [==============================] - 4s 212ms/step - loss: 0.5848 - accuracy: 0.6491 - val_loss: 0.5946 - val_accuracy: 0.6330\n",
      "Epoch 37/50\n",
      "20/20 [==============================] - 5s 226ms/step - loss: 0.6180 - accuracy: 0.6485 - val_loss: 0.5780 - val_accuracy: 0.6784\n",
      "Epoch 38/50\n",
      "20/20 [==============================] - 4s 208ms/step - loss: 0.6269 - accuracy: 0.6194 - val_loss: 0.5785 - val_accuracy: 0.6887\n",
      "Epoch 39/50\n",
      "20/20 [==============================] - 4s 214ms/step - loss: 0.5787 - accuracy: 0.7068 - val_loss: 0.6270 - val_accuracy: 0.6309\n",
      "Epoch 40/50\n",
      "20/20 [==============================] - 4s 213ms/step - loss: 0.6045 - accuracy: 0.7010 - val_loss: 0.5737 - val_accuracy: 0.6990\n",
      "Epoch 41/50\n",
      "20/20 [==============================] - 4s 215ms/step - loss: 0.5594 - accuracy: 0.7170 - val_loss: 0.5706 - val_accuracy: 0.6928\n",
      "Epoch 42/50\n",
      "20/20 [==============================] - 4s 223ms/step - loss: 0.5685 - accuracy: 0.6770 - val_loss: 0.7382 - val_accuracy: 0.5897\n",
      "Epoch 43/50\n",
      "20/20 [==============================] - 4s 215ms/step - loss: 0.5722 - accuracy: 0.6819 - val_loss: 0.5830 - val_accuracy: 0.6742\n",
      "Epoch 44/50\n",
      "20/20 [==============================] - 4s 218ms/step - loss: 0.5762 - accuracy: 0.6812 - val_loss: 0.5634 - val_accuracy: 0.6742\n",
      "Epoch 45/50\n",
      "20/20 [==============================] - 4s 209ms/step - loss: 0.5996 - accuracy: 0.7031 - val_loss: 0.6117 - val_accuracy: 0.6515\n",
      "Epoch 46/50\n",
      "20/20 [==============================] - 4s 221ms/step - loss: 0.6036 - accuracy: 0.6314 - val_loss: 0.5771 - val_accuracy: 0.6804\n",
      "Epoch 47/50\n",
      "20/20 [==============================] - 4s 212ms/step - loss: 0.5834 - accuracy: 0.6703 - val_loss: 0.5635 - val_accuracy: 0.6784\n",
      "Epoch 48/50\n",
      "20/20 [==============================] - 4s 216ms/step - loss: 0.5967 - accuracy: 0.6305 - val_loss: 0.5822 - val_accuracy: 0.6701\n",
      "Epoch 49/50\n",
      "20/20 [==============================] - 4s 214ms/step - loss: 0.6111 - accuracy: 0.6823 - val_loss: 0.5778 - val_accuracy: 0.7010\n",
      "Epoch 50/50\n",
      "20/20 [==============================] - 4s 219ms/step - loss: 0.5701 - accuracy: 0.7255 - val_loss: 0.6509 - val_accuracy: 0.6351\n"
     ]
    }
   ],
   "source": [
    "history2 = modelB.fit(train_generator2,\n",
    "                     steps_per_epoch=20,\n",
    "                     epochs = 50,  \n",
    "                     validation_data = valid_generator2)"
   ]
  },
  {
   "cell_type": "code",
   "execution_count": 27,
   "metadata": {},
   "outputs": [],
   "source": [
    "modelB.save('model_2.h5')"
   ]
  },
  {
   "cell_type": "code",
   "execution_count": 28,
   "metadata": {},
   "outputs": [
    {
     "data": {
      "image/png": "[encoded data removed]",
      "text/plain": [
       "<Figure size 432x288 with 1 Axes>"
      ]
     },
     "metadata": {
      "needs_background": "light"
     },
     "output_type": "display_data"
    },
    {
     "data": {
      "image/png": "[encoded data removed]",
      "text/plain": [
       "<Figure size 432x288 with 1 Axes>"
      ]
     },
     "metadata": {
      "needs_background": "light"
     },
     "output_type": "display_data"
    }
   ],
   "source": [
    "# summarize history for accuracy\n",
    "plt.plot(history2.history['accuracy'])\n",
    "plt.plot(history2.history['val_accuracy'])\n",
    "plt.title('model accuracy')\n",
    "plt.ylabel('accuracy')\n",
    "plt.xlabel('epoch')\n",
    "plt.legend(['train', 'test'], loc='upper left')\n",
    "plt.show()\n",
    "# summarize history for loss\n",
    "plt.plot(history2.history['loss'])\n",
    "plt.plot(history2.history['val_loss'])\n",
    "plt.title('model loss')\n",
    "plt.ylabel('loss')\n",
    "plt.xlabel('epoch')\n",
    "plt.legend(['train', 'test'], loc='upper left')\n",
    "plt.show()"
   ]
  },
  {
   "cell_type": "markdown",
   "metadata": {},
   "source": [
    "Con este nuevo modelo con data augmentation, conseguimos controlar el sobreentrenamiento, acabando con él por completo (salvo un ligero sobreentrenamiento en la época final). Por contra, la precisión del modelo ha descendido de forma notable, como se observa en las gráficas de precisión. Aun teniéndo esa pérdida de precisión, este segundo modelo podría considerarse mejor que el primero debido a la ausencia de sobreentrenamiento, pero debido a que el sobreentrenamiento del primer modelo no es excesivo y tiene una precisión mucho mayor, se elegiría éste como el ideal, pero esto queda a elección del consumidor."
   ]
  },
  {
   "cell_type": "markdown",
   "metadata": {},
   "source": [
    "## SEGUNDO MODELO CNN"
   ]
  },
  {
   "cell_type": "markdown",
   "metadata": {},
   "source": [
    "Para este segundo modelo, se le introduce una capa densa nueva en el clasificador con función de activación softmax que cuenta con un buen comportamiento en las capas del clasificador. Además, también se le introduce una probabilidad de dropout de 0.1 tras las capas de pooling."
   ]
  },
  {
   "cell_type": "code",
   "execution_count": 32,
   "metadata": {},
   "outputs": [],
   "source": [
    "modelC = models.Sequential()\n",
    "modelC.add(layers.Conv2D(32, (3, 3),activation='relu',\n",
    "                        input_shape=(128, 128, 3)))\n",
    "modelC.add(layers.MaxPooling2D((2, 2)))\n",
    "model.add(Dropout(0.1))\n",
    "\n",
    "modelC.add(layers.Conv2D(64, (3, 3), activation='relu'))\n",
    "modelC.add(layers.MaxPooling2D((2, 2)))\n",
    "modelC.add(Dropout(0.1))\n",
    "\n",
    "modelC.add(layers.Conv2D(128, (3, 3), activation='relu'))\n",
    "modelC.add(layers.MaxPooling2D((2, 2)))\n",
    "modelC.add(Dropout(0.1))\n",
    "\n",
    "modelC.add(layers.Flatten())\n",
    "modelC.add(layers.Dense(64, activation='softmax'))\n",
    "modelC.add(layers.Dense(32, activation='relu'))\n",
    "modelC.add(Dense(clases, activation = 'sigmoid'))"
   ]
  },
  {
   "cell_type": "code",
   "execution_count": 33,
   "metadata": {},
   "outputs": [
    {
     "name": "stdout",
     "output_type": "stream",
     "text": [
      "Model: \"sequential_3\"\n",
      "_________________________________________________________________\n",
      "Layer (type)                 Output Shape              Param #   \n",
      "=================================================================\n",
      "conv2d_9 (Conv2D)            (None, 126, 126, 32)      896       \n",
      "_________________________________________________________________\n",
      "max_pooling2d_9 (MaxPooling2 (None, 63, 63, 32)        0         \n",
      "_________________________________________________________________\n",
      "conv2d_10 (Conv2D)           (None, 61, 61, 64)        18496     \n",
      "_________________________________________________________________\n",
      "max_pooling2d_10 (MaxPooling (None, 30, 30, 64)        0         \n",
      "_________________________________________________________________\n",
      "dropout_4 (Dropout)          (None, 30, 30, 64)        0         \n",
      "_________________________________________________________________\n",
      "conv2d_11 (Conv2D)           (None, 28, 28, 128)       73856     \n",
      "_________________________________________________________________\n",
      "max_pooling2d_11 (MaxPooling (None, 14, 14, 128)       0         \n",
      "_________________________________________________________________\n",
      "dropout_5 (Dropout)          (None, 14, 14, 128)       0         \n",
      "_________________________________________________________________\n",
      "flatten_3 (Flatten)          (None, 25088)             0         \n",
      "_________________________________________________________________\n",
      "dense_7 (Dense)              (None, 64)                1605696   \n",
      "_________________________________________________________________\n",
      "dense_8 (Dense)              (None, 32)                2080      \n",
      "_________________________________________________________________\n",
      "dense_9 (Dense)              (None, 2)                 66        \n",
      "=================================================================\n",
      "Total params: 1,701,090\n",
      "Trainable params: 1,701,090\n",
      "Non-trainable params: 0\n",
      "_________________________________________________________________\n"
     ]
    }
   ],
   "source": [
    "modelC.summary()"
   ]
  },
  {
   "cell_type": "markdown",
   "metadata": {},
   "source": [
    "Para este modelo, el número de parámetros ha aumentado ligeramente como se puede observar."
   ]
  },
  {
   "cell_type": "code",
   "execution_count": 34,
   "metadata": {},
   "outputs": [],
   "source": [
    "modelC.compile(loss = 'categorical_crossentropy',\n",
    "              optimizer = optimizers.RMSprop(lr=1e-4),\n",
    "              metrics = ['accuracy'])"
   ]
  },
  {
   "cell_type": "code",
   "execution_count": 36,
   "metadata": {},
   "outputs": [
    {
     "name": "stdout",
     "output_type": "stream",
     "text": [
      "Epoch 1/50\n",
      "20/20 [==============================] - 5s 217ms/step - loss: 0.6946 - accuracy: 0.4866 - val_loss: 0.6932 - val_accuracy: 0.4907\n",
      "Epoch 2/50\n",
      "20/20 [==============================] - 4s 218ms/step - loss: 0.6913 - accuracy: 0.5262 - val_loss: 0.6920 - val_accuracy: 0.4907\n",
      "Epoch 3/50\n",
      "20/20 [==============================] - 4s 212ms/step - loss: 0.6863 - accuracy: 0.5615 - val_loss: 0.6885 - val_accuracy: 0.5629\n",
      "Epoch 4/50\n",
      "20/20 [==============================] - 4s 205ms/step - loss: 0.6827 - accuracy: 0.6022 - val_loss: 0.6862 - val_accuracy: 0.5856\n",
      "Epoch 5/50\n",
      "20/20 [==============================] - 4s 206ms/step - loss: 0.6767 - accuracy: 0.6043 - val_loss: 0.6804 - val_accuracy: 0.5959\n",
      "Epoch 6/50\n",
      "20/20 [==============================] - 4s 214ms/step - loss: 0.6743 - accuracy: 0.5973 - val_loss: 0.6837 - val_accuracy: 0.5773\n",
      "Epoch 7/50\n",
      "20/20 [==============================] - 4s 214ms/step - loss: 0.6747 - accuracy: 0.6242 - val_loss: 0.6781 - val_accuracy: 0.6021\n",
      "Epoch 8/50\n",
      "20/20 [==============================] - 4s 219ms/step - loss: 0.6671 - accuracy: 0.6017 - val_loss: 0.6731 - val_accuracy: 0.5876\n",
      "Epoch 9/50\n",
      "20/20 [==============================] - 4s 224ms/step - loss: 0.6749 - accuracy: 0.5630 - val_loss: 0.6707 - val_accuracy: 0.6268\n",
      "Epoch 10/50\n",
      "20/20 [==============================] - 4s 215ms/step - loss: 0.6680 - accuracy: 0.6287 - val_loss: 0.6719 - val_accuracy: 0.6227\n",
      "Epoch 11/50\n",
      "20/20 [==============================] - 4s 221ms/step - loss: 0.6643 - accuracy: 0.6260 - val_loss: 0.6920 - val_accuracy: 0.5278\n",
      "Epoch 12/50\n",
      "20/20 [==============================] - 4s 220ms/step - loss: 0.6726 - accuracy: 0.5996 - val_loss: 0.6659 - val_accuracy: 0.6268\n",
      "Epoch 13/50\n",
      "20/20 [==============================] - 4s 222ms/step - loss: 0.6604 - accuracy: 0.6434 - val_loss: 0.6626 - val_accuracy: 0.6330\n",
      "Epoch 14/50\n",
      "20/20 [==============================] - 4s 220ms/step - loss: 0.6568 - accuracy: 0.6364 - val_loss: 0.6666 - val_accuracy: 0.5938\n",
      "Epoch 15/50\n",
      "20/20 [==============================] - 4s 220ms/step - loss: 0.6627 - accuracy: 0.5926 - val_loss: 0.6562 - val_accuracy: 0.6515\n",
      "Epoch 16/50\n",
      "20/20 [==============================] - 4s 218ms/step - loss: 0.6687 - accuracy: 0.5855 - val_loss: 0.6534 - val_accuracy: 0.6680\n",
      "Epoch 17/50\n",
      "20/20 [==============================] - 4s 222ms/step - loss: 0.6420 - accuracy: 0.6955 - val_loss: 0.6659 - val_accuracy: 0.6227\n",
      "Epoch 18/50\n",
      "20/20 [==============================] - 5s 229ms/step - loss: 0.6435 - accuracy: 0.6920 - val_loss: 0.6460 - val_accuracy: 0.6742\n",
      "Epoch 19/50\n",
      "20/20 [==============================] - 5s 230ms/step - loss: 0.6519 - accuracy: 0.6766 - val_loss: 0.6567 - val_accuracy: 0.6412\n",
      "Epoch 20/50\n",
      "20/20 [==============================] - 5s 233ms/step - loss: 0.6499 - accuracy: 0.6676 - val_loss: 0.6439 - val_accuracy: 0.6866\n",
      "Epoch 21/50\n",
      "20/20 [==============================] - 4s 226ms/step - loss: 0.6342 - accuracy: 0.7036 - val_loss: 0.6736 - val_accuracy: 0.5629\n",
      "Epoch 22/50\n",
      "20/20 [==============================] - 5s 231ms/step - loss: 0.6209 - accuracy: 0.7360 - val_loss: 0.6442 - val_accuracy: 0.6577\n",
      "Epoch 23/50\n",
      "20/20 [==============================] - 5s 233ms/step - loss: 0.6160 - accuracy: 0.7466 - val_loss: 0.6431 - val_accuracy: 0.6619\n",
      "Epoch 24/50\n",
      "20/20 [==============================] - 5s 237ms/step - loss: 0.6268 - accuracy: 0.7276 - val_loss: 0.6265 - val_accuracy: 0.7278\n",
      "Epoch 25/50\n",
      "20/20 [==============================] - 4s 225ms/step - loss: 0.6388 - accuracy: 0.6602 - val_loss: 0.6266 - val_accuracy: 0.7258\n",
      "Epoch 26/50\n",
      "20/20 [==============================] - 5s 234ms/step - loss: 0.6164 - accuracy: 0.7580 - val_loss: 0.6192 - val_accuracy: 0.7567\n",
      "Epoch 27/50\n",
      "20/20 [==============================] - 5s 239ms/step - loss: 0.6115 - accuracy: 0.7459 - val_loss: 0.6227 - val_accuracy: 0.7196\n",
      "Epoch 28/50\n",
      "20/20 [==============================] - 4s 226ms/step - loss: 0.6050 - accuracy: 0.7498 - val_loss: 0.6136 - val_accuracy: 0.7423\n",
      "Epoch 29/50\n",
      "20/20 [==============================] - 5s 231ms/step - loss: 0.6131 - accuracy: 0.7322 - val_loss: 0.6179 - val_accuracy: 0.6907\n",
      "Epoch 30/50\n",
      "20/20 [==============================] - 5s 236ms/step - loss: 0.6123 - accuracy: 0.7280 - val_loss: 0.6253 - val_accuracy: 0.6907\n",
      "Epoch 31/50\n",
      "20/20 [==============================] - 5s 235ms/step - loss: 0.6142 - accuracy: 0.7001 - val_loss: 0.6030 - val_accuracy: 0.7278\n",
      "Epoch 32/50\n",
      "20/20 [==============================] - 5s 233ms/step - loss: 0.5867 - accuracy: 0.7887 - val_loss: 0.6019 - val_accuracy: 0.7423\n",
      "Epoch 33/50\n",
      "20/20 [==============================] - 4s 223ms/step - loss: 0.5781 - accuracy: 0.7946 - val_loss: 0.5934 - val_accuracy: 0.7505\n",
      "Epoch 34/50\n",
      "20/20 [==============================] - 5s 236ms/step - loss: 0.5754 - accuracy: 0.7754 - val_loss: 0.5896 - val_accuracy: 0.7588\n",
      "Epoch 35/50\n",
      "20/20 [==============================] - 5s 232ms/step - loss: 0.5672 - accuracy: 0.8015 - val_loss: 0.5856 - val_accuracy: 0.7835\n",
      "Epoch 36/50\n",
      "20/20 [==============================] - 4s 207ms/step - loss: 0.5741 - accuracy: 0.7809 - val_loss: 0.5827 - val_accuracy: 0.7773\n",
      "Epoch 37/50\n",
      "20/20 [==============================] - 4s 215ms/step - loss: 0.5551 - accuracy: 0.8339 - val_loss: 0.5905 - val_accuracy: 0.7526\n",
      "Epoch 38/50\n",
      "20/20 [==============================] - 4s 214ms/step - loss: 0.5721 - accuracy: 0.7914 - val_loss: 0.5798 - val_accuracy: 0.7670\n",
      "Epoch 39/50\n",
      "20/20 [==============================] - 4s 215ms/step - loss: 0.5595 - accuracy: 0.8062 - val_loss: 0.5803 - val_accuracy: 0.7691\n",
      "Epoch 40/50\n",
      "20/20 [==============================] - 4s 207ms/step - loss: 0.5622 - accuracy: 0.7822 - val_loss: 0.5611 - val_accuracy: 0.7918\n",
      "Epoch 41/50\n",
      "20/20 [==============================] - 4s 213ms/step - loss: 0.5506 - accuracy: 0.8079 - val_loss: 0.5738 - val_accuracy: 0.7526\n",
      "Epoch 42/50\n",
      "20/20 [==============================] - 4s 213ms/step - loss: 0.5502 - accuracy: 0.7808 - val_loss: 0.5685 - val_accuracy: 0.7320\n",
      "Epoch 43/50\n",
      "20/20 [==============================] - 4s 214ms/step - loss: 0.5444 - accuracy: 0.7903 - val_loss: 0.5627 - val_accuracy: 0.7670\n",
      "Epoch 44/50\n",
      "20/20 [==============================] - 4s 216ms/step - loss: 0.5291 - accuracy: 0.8146 - val_loss: 0.5605 - val_accuracy: 0.7464\n",
      "Epoch 45/50\n",
      "20/20 [==============================] - 4s 212ms/step - loss: 0.5372 - accuracy: 0.8158 - val_loss: 0.5358 - val_accuracy: 0.8165\n",
      "Epoch 46/50\n",
      "20/20 [==============================] - 4s 210ms/step - loss: 0.5134 - accuracy: 0.8301 - val_loss: 0.5677 - val_accuracy: 0.7505\n",
      "Epoch 47/50\n",
      "20/20 [==============================] - 4s 208ms/step - loss: 0.5400 - accuracy: 0.7811 - val_loss: 0.5424 - val_accuracy: 0.8000\n",
      "Epoch 48/50\n",
      "20/20 [==============================] - 4s 214ms/step - loss: 0.5008 - accuracy: 0.8327 - val_loss: 0.5335 - val_accuracy: 0.7959\n",
      "Epoch 49/50\n",
      "20/20 [==============================] - 4s 214ms/step - loss: 0.5182 - accuracy: 0.7988 - val_loss: 0.5312 - val_accuracy: 0.8041\n",
      "Epoch 50/50\n",
      "20/20 [==============================] - 4s 217ms/step - loss: 0.5041 - accuracy: 0.8310 - val_loss: 0.5222 - val_accuracy: 0.8124\n"
     ]
    }
   ],
   "source": [
    "history3 = modelC.fit(train_generator,\n",
    "                     steps_per_epoch=20,\n",
    "                     epochs = 50,  \n",
    "                     validation_data = valid_generator)"
   ]
  },
  {
   "cell_type": "code",
   "execution_count": 37,
   "metadata": {},
   "outputs": [],
   "source": [
    "modelC.save('model_3.h5')"
   ]
  },
  {
   "cell_type": "code",
   "execution_count": 38,
   "metadata": {},
   "outputs": [
    {
     "data": {
      "image/png": "[encoded data removed]",
      "text/plain": [
       "<Figure size 432x288 with 1 Axes>"
      ]
     },
     "metadata": {
      "needs_background": "light"
     },
     "output_type": "display_data"
    },
    {
     "data": {
      "image/png": "[encoded data removed]",
      "text/plain": [
       "<Figure size 432x288 with 1 Axes>"
      ]
     },
     "metadata": {
      "needs_background": "light"
     },
     "output_type": "display_data"
    }
   ],
   "source": [
    "# summarize history for accuracy\n",
    "plt.plot(history3.history['accuracy'])\n",
    "plt.plot(history3.history['val_accuracy'])\n",
    "plt.title('model accuracy')\n",
    "plt.ylabel('accuracy')\n",
    "plt.xlabel('epoch')\n",
    "plt.legend(['train', 'test'], loc='upper left')\n",
    "plt.show()\n",
    "# summarize history for loss\n",
    "plt.plot(history3.history['loss'])\n",
    "plt.plot(history3.history['val_loss'])\n",
    "plt.title('model loss')\n",
    "plt.ylabel('loss')\n",
    "plt.xlabel('epoch')\n",
    "plt.legend(['train', 'test'], loc='upper left')\n",
    "plt.show()"
   ]
  },
  {
   "cell_type": "markdown",
   "metadata": {},
   "source": [
    "La precisión de este modelo ha disminuido con respecto al primer modelo, pero se consigue limitar el sobreentrenamiento del modelo sin meterle incluso data augmentation. Este podría significar un buen paso en la consecución del modelo ideal, ya que el sobreentrenamiento ha desaparecido prácticamente, siendo ahora el principal objetivo el aumento de precisión. También se prueba para este modelo la introducción de data augmentation, pero viendo los resultados del modelo anterior, se puede deducir que la precisión disminuirá."
   ]
  },
  {
   "cell_type": "code",
   "execution_count": 39,
   "metadata": {},
   "outputs": [],
   "source": [
    "modelD = models.Sequential()\n",
    "modelD.add(layers.Conv2D(32, (3, 3),activation='relu',\n",
    "                        input_shape=(128, 128, 3)))\n",
    "modelD.add(layers.MaxPooling2D((2, 2)))\n",
    "modelD.add(Dropout(0.1))\n",
    "\n",
    "modelD.add(layers.Conv2D(64, (3, 3), activation='relu'))\n",
    "modelD.add(layers.MaxPooling2D((2, 2)))\n",
    "modelD.add(Dropout(0.1))\n",
    "\n",
    "modelD.add(layers.Conv2D(128, (3, 3), activation='relu'))\n",
    "modelD.add(layers.MaxPooling2D((2, 2)))\n",
    "modelD.add(Dropout(0.1))\n",
    "\n",
    "modelD.add(layers.Flatten())\n",
    "modelD.add(layers.Dense(64, activation='softmax'))\n",
    "modelD.add(layers.Dense(32, activation='relu'))\n",
    "modelD.add(Dense(clases, activation = 'sigmoid'))"
   ]
  },
  {
   "cell_type": "code",
   "execution_count": 40,
   "metadata": {},
   "outputs": [],
   "source": [
    "modelD.compile(loss = 'categorical_crossentropy',\n",
    "              optimizer = optimizers.RMSprop(lr=1e-4),\n",
    "              metrics = ['accuracy'])"
   ]
  },
  {
   "cell_type": "code",
   "execution_count": 41,
   "metadata": {},
   "outputs": [
    {
     "name": "stdout",
     "output_type": "stream",
     "text": [
      "Epoch 1/50\n",
      "20/20 [==============================] - 5s 231ms/step - loss: 0.6941 - accuracy: 0.4685 - val_loss: 0.6930 - val_accuracy: 0.5093\n",
      "Epoch 2/50\n",
      "20/20 [==============================] - 4s 222ms/step - loss: 0.6933 - accuracy: 0.5428 - val_loss: 0.6941 - val_accuracy: 0.4907\n",
      "Epoch 3/50\n",
      "20/20 [==============================] - 4s 222ms/step - loss: 0.6875 - accuracy: 0.5791 - val_loss: 0.6960 - val_accuracy: 0.4907\n",
      "Epoch 4/50\n",
      "20/20 [==============================] - 4s 221ms/step - loss: 0.6944 - accuracy: 0.4921 - val_loss: 0.6931 - val_accuracy: 0.4907\n",
      "Epoch 5/50\n",
      "20/20 [==============================] - 4s 220ms/step - loss: 0.6914 - accuracy: 0.5037 - val_loss: 0.6942 - val_accuracy: 0.4907\n",
      "Epoch 6/50\n",
      "20/20 [==============================] - 5s 227ms/step - loss: 0.6943 - accuracy: 0.4782 - val_loss: 0.6937 - val_accuracy: 0.4907\n",
      "Epoch 7/50\n",
      "20/20 [==============================] - 4s 216ms/step - loss: 0.6927 - accuracy: 0.5021 - val_loss: 0.6960 - val_accuracy: 0.4907\n",
      "Epoch 8/50\n",
      "20/20 [==============================] - 4s 223ms/step - loss: 0.6927 - accuracy: 0.4935 - val_loss: 0.6915 - val_accuracy: 0.4907\n",
      "Epoch 9/50\n",
      "20/20 [==============================] - 4s 221ms/step - loss: 0.6919 - accuracy: 0.5293 - val_loss: 0.6912 - val_accuracy: 0.4907\n",
      "Epoch 10/50\n",
      "20/20 [==============================] - 5s 228ms/step - loss: 0.6868 - accuracy: 0.5647 - val_loss: 0.7002 - val_accuracy: 0.4907\n",
      "Epoch 11/50\n",
      "20/20 [==============================] - 5s 224ms/step - loss: 0.6924 - accuracy: 0.5201 - val_loss: 0.6901 - val_accuracy: 0.4907\n",
      "Epoch 12/50\n",
      "20/20 [==============================] - 5s 229ms/step - loss: 0.6916 - accuracy: 0.5115 - val_loss: 0.6903 - val_accuracy: 0.4907\n",
      "Epoch 13/50\n",
      "20/20 [==============================] - 5s 230ms/step - loss: 0.6882 - accuracy: 0.5552 - val_loss: 0.6897 - val_accuracy: 0.4907\n",
      "Epoch 14/50\n",
      "20/20 [==============================] - 5s 230ms/step - loss: 0.6871 - accuracy: 0.6017 - val_loss: 0.6931 - val_accuracy: 0.4907\n",
      "Epoch 15/50\n",
      "20/20 [==============================] - 5s 232ms/step - loss: 0.6850 - accuracy: 0.5805 - val_loss: 0.6892 - val_accuracy: 0.5072\n",
      "Epoch 16/50\n",
      "20/20 [==============================] - 5s 230ms/step - loss: 0.6865 - accuracy: 0.5628 - val_loss: 0.6862 - val_accuracy: 0.6021\n",
      "Epoch 17/50\n",
      "20/20 [==============================] - 5s 227ms/step - loss: 0.6837 - accuracy: 0.5757 - val_loss: 0.6854 - val_accuracy: 0.6021\n",
      "Epoch 18/50\n",
      "20/20 [==============================] - 5s 232ms/step - loss: 0.6838 - accuracy: 0.5780 - val_loss: 0.6847 - val_accuracy: 0.5856\n",
      "Epoch 19/50\n",
      "20/20 [==============================] - 5s 231ms/step - loss: 0.6875 - accuracy: 0.5269 - val_loss: 0.7031 - val_accuracy: 0.4907\n",
      "Epoch 20/50\n",
      "20/20 [==============================] - 5s 229ms/step - loss: 0.6843 - accuracy: 0.5365 - val_loss: 0.6832 - val_accuracy: 0.6000\n",
      "Epoch 21/50\n",
      "20/20 [==============================] - 5s 228ms/step - loss: 0.6842 - accuracy: 0.5852 - val_loss: 0.6822 - val_accuracy: 0.6041\n",
      "Epoch 22/50\n",
      "20/20 [==============================] - 5s 225ms/step - loss: 0.6801 - accuracy: 0.6112 - val_loss: 0.6898 - val_accuracy: 0.5093\n",
      "Epoch 23/50\n",
      "20/20 [==============================] - 4s 222ms/step - loss: 0.6930 - accuracy: 0.5477 - val_loss: 0.6799 - val_accuracy: 0.6062\n",
      "Epoch 24/50\n",
      "20/20 [==============================] - 5s 225ms/step - loss: 0.6839 - accuracy: 0.5561 - val_loss: 0.6803 - val_accuracy: 0.5526\n",
      "Epoch 25/50\n",
      "20/20 [==============================] - 5s 238ms/step - loss: 0.6860 - accuracy: 0.5625 - val_loss: 0.6838 - val_accuracy: 0.5278\n",
      "Epoch 26/50\n",
      "20/20 [==============================] - 5s 233ms/step - loss: 0.6875 - accuracy: 0.5354 - val_loss: 0.6841 - val_accuracy: 0.5216\n",
      "Epoch 27/50\n",
      "20/20 [==============================] - 5s 228ms/step - loss: 0.6790 - accuracy: 0.5653 - val_loss: 0.6768 - val_accuracy: 0.6247\n",
      "Epoch 28/50\n",
      "20/20 [==============================] - 5s 227ms/step - loss: 0.6702 - accuracy: 0.6396 - val_loss: 0.6759 - val_accuracy: 0.6186\n",
      "Epoch 29/50\n",
      "20/20 [==============================] - 5s 225ms/step - loss: 0.6757 - accuracy: 0.5992 - val_loss: 0.6767 - val_accuracy: 0.5546\n",
      "Epoch 30/50\n",
      "20/20 [==============================] - 5s 227ms/step - loss: 0.6742 - accuracy: 0.5756 - val_loss: 0.6734 - val_accuracy: 0.6309\n",
      "Epoch 31/50\n",
      "20/20 [==============================] - 5s 226ms/step - loss: 0.6772 - accuracy: 0.5889 - val_loss: 0.6706 - val_accuracy: 0.6412\n",
      "Epoch 32/50\n",
      "20/20 [==============================] - 5s 224ms/step - loss: 0.6762 - accuracy: 0.5903 - val_loss: 0.6697 - val_accuracy: 0.6330\n",
      "Epoch 33/50\n",
      "20/20 [==============================] - 4s 221ms/step - loss: 0.6873 - accuracy: 0.5286 - val_loss: 0.6815 - val_accuracy: 0.5258\n",
      "Epoch 34/50\n",
      "20/20 [==============================] - 5s 230ms/step - loss: 0.6811 - accuracy: 0.5574 - val_loss: 0.6731 - val_accuracy: 0.5711\n",
      "Epoch 35/50\n",
      "20/20 [==============================] - 5s 229ms/step - loss: 0.6821 - accuracy: 0.5354 - val_loss: 0.6760 - val_accuracy: 0.5443\n",
      "Epoch 36/50\n",
      "20/20 [==============================] - 5s 225ms/step - loss: 0.6651 - accuracy: 0.6113 - val_loss: 0.6660 - val_accuracy: 0.6495\n",
      "Epoch 37/50\n",
      "20/20 [==============================] - 5s 229ms/step - loss: 0.6656 - accuracy: 0.6414 - val_loss: 0.6666 - val_accuracy: 0.6330\n",
      "Epoch 38/50\n",
      "20/20 [==============================] - 5s 224ms/step - loss: 0.6770 - accuracy: 0.5966 - val_loss: 0.6713 - val_accuracy: 0.5670\n",
      "Epoch 39/50\n",
      "20/20 [==============================] - 5s 226ms/step - loss: 0.6718 - accuracy: 0.5886 - val_loss: 0.6634 - val_accuracy: 0.6433\n",
      "Epoch 40/50\n",
      "20/20 [==============================] - 5s 230ms/step - loss: 0.6694 - accuracy: 0.6039 - val_loss: 0.6686 - val_accuracy: 0.5918\n",
      "Epoch 41/50\n",
      "20/20 [==============================] - 5s 225ms/step - loss: 0.6662 - accuracy: 0.6237 - val_loss: 0.6607 - val_accuracy: 0.6392\n",
      "Epoch 42/50\n",
      "20/20 [==============================] - 5s 225ms/step - loss: 0.6646 - accuracy: 0.6074 - val_loss: 0.6839 - val_accuracy: 0.5361\n",
      "Epoch 43/50\n",
      "20/20 [==============================] - 5s 238ms/step - loss: 0.6592 - accuracy: 0.6229 - val_loss: 0.6655 - val_accuracy: 0.5959\n",
      "Epoch 44/50\n",
      "20/20 [==============================] - 5s 223ms/step - loss: 0.6525 - accuracy: 0.6338 - val_loss: 0.6569 - val_accuracy: 0.6454\n",
      "Epoch 45/50\n",
      "20/20 [==============================] - 5s 229ms/step - loss: 0.6727 - accuracy: 0.5709 - val_loss: 0.6614 - val_accuracy: 0.6206\n",
      "Epoch 46/50\n",
      "20/20 [==============================] - 5s 226ms/step - loss: 0.6681 - accuracy: 0.5834 - val_loss: 0.6953 - val_accuracy: 0.5258\n",
      "Epoch 47/50\n",
      "20/20 [==============================] - 5s 232ms/step - loss: 0.6611 - accuracy: 0.6173 - val_loss: 0.6560 - val_accuracy: 0.6392\n",
      "Epoch 48/50\n",
      "20/20 [==============================] - 5s 224ms/step - loss: 0.6652 - accuracy: 0.6291 - val_loss: 0.6556 - val_accuracy: 0.6412\n",
      "Epoch 49/50\n",
      "20/20 [==============================] - 5s 225ms/step - loss: 0.6574 - accuracy: 0.6322 - val_loss: 0.6708 - val_accuracy: 0.5794\n",
      "Epoch 50/50\n",
      "20/20 [==============================] - 4s 221ms/step - loss: 0.6656 - accuracy: 0.6260 - val_loss: 0.6510 - val_accuracy: 0.6619\n"
     ]
    }
   ],
   "source": [
    "history4 = modelD.fit(train_generator2,\n",
    "                     steps_per_epoch=20,\n",
    "                     epochs = 50,  \n",
    "                     validation_data = valid_generator2)"
   ]
  },
  {
   "cell_type": "code",
   "execution_count": 42,
   "metadata": {},
   "outputs": [],
   "source": [
    "modelD.save('model_4.h5')"
   ]
  },
  {
   "cell_type": "code",
   "execution_count": 43,
   "metadata": {},
   "outputs": [
    {
     "data": {
      "image/png": "[encoded data removed]",
      "text/plain": [
       "<Figure size 432x288 with 1 Axes>"
      ]
     },
     "metadata": {
      "needs_background": "light"
     },
     "output_type": "display_data"
    },
    {
     "data": {
      "image/png": "[encoded data removed]",
      "text/plain": [
       "<Figure size 432x288 with 1 Axes>"
      ]
     },
     "metadata": {
      "needs_background": "light"
     },
     "output_type": "display_data"
    }
   ],
   "source": [
    "# summarize history for accuracy\n",
    "plt.plot(history4.history['accuracy'])\n",
    "plt.plot(history4.history['val_accuracy'])\n",
    "plt.title('model accuracy')\n",
    "plt.ylabel('accuracy')\n",
    "plt.xlabel('epoch')\n",
    "plt.legend(['train', 'test'], loc='upper left')\n",
    "plt.show()\n",
    "# summarize history for loss\n",
    "plt.plot(history4.history['loss'])\n",
    "plt.plot(history4.history['val_loss'])\n",
    "plt.title('model loss')\n",
    "plt.ylabel('loss')\n",
    "plt.xlabel('epoch')\n",
    "plt.legend(['train', 'test'], loc='upper left')\n",
    "plt.show()"
   ]
  },
  {
   "cell_type": "markdown",
   "metadata": {},
   "source": [
    "Como se había deducido, la precisión del modelo con data augmentation disminuye de forma notable respecto al modelo sin ella. Por contra, con ella se consigue controlar el pequeño sobreentrenamiento que había surgido en las últimas épocas, pero al ser tan pequeño, el introducir data augmentation queda descartado para el siguiente modelo."
   ]
  },
  {
   "cell_type": "markdown",
   "metadata": {},
   "source": [
    "## TERCER MODELO DNN"
   ]
  },
  {
   "cell_type": "markdown",
   "metadata": {},
   "source": [
    "En el tercer modelo, se modificará el tamaño de las imágenes de 128x128 a 256x256, buscando aumentar los parámetros. Se prueba también a añadirle padding a todas las capas convolucionales. Una de las características principales de este nuevo modelo es el cambio del número de neuronas de la primera capa del clasificador, de 64 a 128 neuronas. Esto conlleva un aumento del número de parámetros y de los tiempos de ejecución."
   ]
  },
  {
   "cell_type": "code",
   "execution_count": 44,
   "metadata": {},
   "outputs": [
    {
     "name": "stdout",
     "output_type": "stream",
     "text": [
      "Found 1942 validated image filenames belonging to 2 classes.\n",
      "Found 485 validated image filenames belonging to 2 classes.\n"
     ]
    }
   ],
   "source": [
    "train_generator3 = datagen.flow_from_dataframe(dataframe = df_seleccion,\n",
    "                                              directory = directorio_carpeta,\n",
    "                                              x_col = 'Lista_imagenes',\n",
    "                                              y_col = 'Marca',\n",
    "                                              class_mode = 'categorical',\n",
    "                                              batch_size = batch_size,\n",
    "                                              subset = 'training',\n",
    "                                              target_size=(256,256))\n",
    "\n",
    "\n",
    "valid_generator3 = datagen.flow_from_dataframe(dataframe = df_seleccion,\n",
    "                                              directory = directorio_carpeta,\n",
    "                                              x_col = 'Lista_imagenes',\n",
    "                                              y_col = 'Marca',\n",
    "                                              class_mode = 'categorical',\n",
    "                                              batch_size = batch_size,\n",
    "                                              subset = 'validation',\n",
    "                                              target_size=(256, 256))"
   ]
  },
  {
   "cell_type": "code",
   "execution_count": 53,
   "metadata": {},
   "outputs": [],
   "source": [
    "modelE = models.Sequential()\n",
    "modelE.add(layers.Conv2D(32, (3, 3),padding = 'same',activation='relu',\n",
    "                        input_shape=(256, 256, 3)))\n",
    "modelE.add(layers.MaxPooling2D((2, 2)))\n",
    "modelE.add(Dropout(0.2))\n",
    "\n",
    "modelE.add(layers.Conv2D(64, (3, 3),padding= 'same', activation='relu'))\n",
    "modelE.add(layers.MaxPooling2D((2, 2)))\n",
    "modelE.add(Dropout(0.2))\n",
    "\n",
    "modelE.add(layers.Conv2D(128, (3, 3), padding= 'same', activation='relu'))\n",
    "modelE.add(layers.MaxPooling2D((2, 2)))\n",
    "modelE.add(Dropout(0.2))\n",
    "\n",
    "modelE.add(layers.Flatten())\n",
    "modelE.add(layers.Dense(128, activation='softmax'))\n",
    "modelE.add(layers.Dense(32, activation='relu'))\n",
    "modelE.add(Dense(clases, activation = 'softmax'))"
   ]
  },
  {
   "cell_type": "code",
   "execution_count": 54,
   "metadata": {},
   "outputs": [],
   "source": [
    "modelE.compile(loss = 'categorical_crossentropy',\n",
    "              optimizer = optimizers.RMSprop(lr=1e-4),\n",
    "              metrics = ['accuracy'])"
   ]
  },
  {
   "cell_type": "code",
   "execution_count": 55,
   "metadata": {},
   "outputs": [
    {
     "name": "stdout",
     "output_type": "stream",
     "text": [
      "Model: \"sequential_7\"\n",
      "_________________________________________________________________\n",
      "Layer (type)                 Output Shape              Param #   \n",
      "=================================================================\n",
      "conv2d_21 (Conv2D)           (None, 256, 256, 32)      896       \n",
      "_________________________________________________________________\n",
      "max_pooling2d_20 (MaxPooling (None, 128, 128, 32)      0         \n",
      "_________________________________________________________________\n",
      "dropout_15 (Dropout)         (None, 128, 128, 32)      0         \n",
      "_________________________________________________________________\n",
      "conv2d_22 (Conv2D)           (None, 128, 128, 64)      18496     \n",
      "_________________________________________________________________\n",
      "max_pooling2d_21 (MaxPooling (None, 64, 64, 64)        0         \n",
      "_________________________________________________________________\n",
      "dropout_16 (Dropout)         (None, 64, 64, 64)        0         \n",
      "_________________________________________________________________\n",
      "conv2d_23 (Conv2D)           (None, 64, 64, 128)       73856     \n",
      "_________________________________________________________________\n",
      "max_pooling2d_22 (MaxPooling (None, 32, 32, 128)       0         \n",
      "_________________________________________________________________\n",
      "dropout_17 (Dropout)         (None, 32, 32, 128)       0         \n",
      "_________________________________________________________________\n",
      "flatten_7 (Flatten)          (None, 131072)            0         \n",
      "_________________________________________________________________\n",
      "dense_19 (Dense)             (None, 128)               16777344  \n",
      "_________________________________________________________________\n",
      "dense_20 (Dense)             (None, 32)                4128      \n",
      "_________________________________________________________________\n",
      "dense_21 (Dense)             (None, 2)                 66        \n",
      "=================================================================\n",
      "Total params: 16,874,786\n",
      "Trainable params: 16,874,786\n",
      "Non-trainable params: 0\n",
      "_________________________________________________________________\n"
     ]
    }
   ],
   "source": [
    "modelE.summary()"
   ]
  },
  {
   "cell_type": "code",
   "execution_count": 56,
   "metadata": {},
   "outputs": [
    {
     "name": "stdout",
     "output_type": "stream",
     "text": [
      "Epoch 1/50\n",
      "20/20 [==============================] - 19s 928ms/step - loss: 0.6967 - accuracy: 0.4551 - val_loss: 0.6934 - val_accuracy: 0.4845\n",
      "Epoch 2/50\n",
      "20/20 [==============================] - 18s 921ms/step - loss: 0.6939 - accuracy: 0.5314 - val_loss: 0.6936 - val_accuracy: 0.4907\n",
      "Epoch 3/50\n",
      "20/20 [==============================] - 18s 924ms/step - loss: 0.6932 - accuracy: 0.5265 - val_loss: 0.6931 - val_accuracy: 0.4907\n",
      "Epoch 4/50\n",
      "20/20 [==============================] - 18s 928ms/step - loss: 0.6916 - accuracy: 0.5326 - val_loss: 0.6927 - val_accuracy: 0.5258\n",
      "Epoch 5/50\n",
      "20/20 [==============================] - 18s 900ms/step - loss: 0.6908 - accuracy: 0.5073 - val_loss: 0.6929 - val_accuracy: 0.4907\n",
      "Epoch 6/50\n",
      "20/20 [==============================] - 18s 921ms/step - loss: 0.6912 - accuracy: 0.5277 - val_loss: 0.6899 - val_accuracy: 0.5567\n",
      "Epoch 7/50\n",
      "20/20 [==============================] - 18s 924ms/step - loss: 0.6977 - accuracy: 0.4992 - val_loss: 0.6936 - val_accuracy: 0.4907\n",
      "Epoch 8/50\n",
      "20/20 [==============================] - 18s 898ms/step - loss: 0.6789 - accuracy: 0.5960 - val_loss: 0.6931 - val_accuracy: 0.4907\n",
      "Epoch 9/50\n",
      "20/20 [==============================] - 18s 911ms/step - loss: 0.6741 - accuracy: 0.6451 - val_loss: 0.6908 - val_accuracy: 0.4928\n",
      "Epoch 10/50\n",
      "20/20 [==============================] - 18s 928ms/step - loss: 0.6825 - accuracy: 0.5829 - val_loss: 0.6931 - val_accuracy: 0.4907\n",
      "Epoch 11/50\n",
      "20/20 [==============================] - 18s 925ms/step - loss: 0.6814 - accuracy: 0.5851 - val_loss: 0.6834 - val_accuracy: 0.5856\n",
      "Epoch 12/50\n",
      "20/20 [==============================] - 18s 930ms/step - loss: 0.6665 - accuracy: 0.6565 - val_loss: 0.6907 - val_accuracy: 0.4907\n",
      "Epoch 13/50\n",
      "20/20 [==============================] - 19s 945ms/step - loss: 0.6780 - accuracy: 0.5794 - val_loss: 0.6834 - val_accuracy: 0.5546\n",
      "Epoch 14/50\n",
      "20/20 [==============================] - 18s 930ms/step - loss: 0.6646 - accuracy: 0.6283 - val_loss: 0.6848 - val_accuracy: 0.5299\n",
      "Epoch 15/50\n",
      "20/20 [==============================] - 18s 897ms/step - loss: 0.6654 - accuracy: 0.6540 - val_loss: 0.6923 - val_accuracy: 0.4907\n",
      "Epoch 16/50\n",
      "20/20 [==============================] - 18s 934ms/step - loss: 0.6543 - accuracy: 0.6784 - val_loss: 0.6664 - val_accuracy: 0.6825\n",
      "Epoch 17/50\n",
      "20/20 [==============================] - 18s 933ms/step - loss: 0.6508 - accuracy: 0.6960 - val_loss: 0.6617 - val_accuracy: 0.6742\n",
      "Epoch 18/50\n",
      "20/20 [==============================] - 19s 950ms/step - loss: 0.6414 - accuracy: 0.7198 - val_loss: 0.6581 - val_accuracy: 0.6763\n",
      "Epoch 19/50\n",
      "20/20 [==============================] - 18s 930ms/step - loss: 0.6638 - accuracy: 0.6223 - val_loss: 0.6684 - val_accuracy: 0.6165\n",
      "Epoch 20/50\n",
      "20/20 [==============================] - 18s 928ms/step - loss: 0.6381 - accuracy: 0.7354 - val_loss: 0.6570 - val_accuracy: 0.6701\n",
      "Epoch 21/50\n",
      "20/20 [==============================] - 19s 933ms/step - loss: 0.6383 - accuracy: 0.6885 - val_loss: 0.6536 - val_accuracy: 0.6845\n",
      "Epoch 22/50\n",
      "20/20 [==============================] - 18s 899ms/step - loss: 0.6304 - accuracy: 0.7172 - val_loss: 0.6679 - val_accuracy: 0.5876\n",
      "Epoch 23/50\n",
      "20/20 [==============================] - 18s 924ms/step - loss: 0.6292 - accuracy: 0.7074 - val_loss: 0.6433 - val_accuracy: 0.7299\n",
      "Epoch 24/50\n",
      "20/20 [==============================] - 18s 925ms/step - loss: 0.6230 - accuracy: 0.7264 - val_loss: 0.6531 - val_accuracy: 0.6680\n",
      "Epoch 25/50\n",
      "20/20 [==============================] - 18s 931ms/step - loss: 0.6200 - accuracy: 0.7283 - val_loss: 0.6426 - val_accuracy: 0.6969\n",
      "Epoch 26/50\n",
      "20/20 [==============================] - 18s 923ms/step - loss: 0.6236 - accuracy: 0.7306 - val_loss: 0.6390 - val_accuracy: 0.7134\n",
      "Epoch 27/50\n",
      "20/20 [==============================] - 18s 901ms/step - loss: 0.6088 - accuracy: 0.7426 - val_loss: 0.6323 - val_accuracy: 0.7299\n",
      "Epoch 28/50\n",
      "20/20 [==============================] - 18s 904ms/step - loss: 0.6014 - accuracy: 0.7642 - val_loss: 0.6296 - val_accuracy: 0.7485\n",
      "Epoch 29/50\n",
      "20/20 [==============================] - 19s 935ms/step - loss: 0.5890 - accuracy: 0.8060 - val_loss: 0.6222 - val_accuracy: 0.7464\n",
      "Epoch 30/50\n",
      "20/20 [==============================] - 18s 923ms/step - loss: 0.5946 - accuracy: 0.7699 - val_loss: 0.6097 - val_accuracy: 0.7753\n",
      "Epoch 31/50\n",
      "20/20 [==============================] - 18s 928ms/step - loss: 0.6009 - accuracy: 0.7644 - val_loss: 0.6149 - val_accuracy: 0.7753\n",
      "Epoch 32/50\n",
      "20/20 [==============================] - 18s 931ms/step - loss: 0.5765 - accuracy: 0.7999 - val_loss: 0.6073 - val_accuracy: 0.7918\n",
      "Epoch 33/50\n",
      "20/20 [==============================] - 18s 923ms/step - loss: 0.5601 - accuracy: 0.8605 - val_loss: 0.6061 - val_accuracy: 0.7526\n",
      "Epoch 34/50\n",
      "20/20 [==============================] - 18s 899ms/step - loss: 0.5555 - accuracy: 0.8167 - val_loss: 0.5952 - val_accuracy: 0.7814\n",
      "Epoch 35/50\n",
      "20/20 [==============================] - 18s 932ms/step - loss: 0.5476 - accuracy: 0.8401 - val_loss: 0.5832 - val_accuracy: 0.8124\n",
      "Epoch 36/50\n",
      "20/20 [==============================] - 18s 924ms/step - loss: 0.5633 - accuracy: 0.8205 - val_loss: 0.5934 - val_accuracy: 0.7649\n",
      "Epoch 37/50\n",
      "20/20 [==============================] - 18s 920ms/step - loss: 0.5456 - accuracy: 0.8426 - val_loss: 0.5936 - val_accuracy: 0.7753\n",
      "Epoch 38/50\n",
      "20/20 [==============================] - 18s 922ms/step - loss: 0.5341 - accuracy: 0.8450 - val_loss: 0.5757 - val_accuracy: 0.7938\n",
      "Epoch 39/50\n",
      "20/20 [==============================] - 18s 925ms/step - loss: 0.5281 - accuracy: 0.8478 - val_loss: 0.5655 - val_accuracy: 0.8165\n",
      "Epoch 40/50\n",
      "20/20 [==============================] - 18s 904ms/step - loss: 0.4961 - accuracy: 0.9006 - val_loss: 0.5719 - val_accuracy: 0.8062\n",
      "Epoch 41/50\n",
      "20/20 [==============================] - 18s 928ms/step - loss: 0.5129 - accuracy: 0.8725 - val_loss: 0.5979 - val_accuracy: 0.7175\n",
      "Epoch 42/50\n",
      "20/20 [==============================] - 18s 926ms/step - loss: 0.5000 - accuracy: 0.8826 - val_loss: 0.5818 - val_accuracy: 0.7649\n",
      "Epoch 43/50\n",
      "20/20 [==============================] - 18s 930ms/step - loss: 0.4940 - accuracy: 0.8913 - val_loss: 0.5492 - val_accuracy: 0.8103\n",
      "Epoch 44/50\n",
      "20/20 [==============================] - 18s 896ms/step - loss: 0.4817 - accuracy: 0.9029 - val_loss: 0.5659 - val_accuracy: 0.7732\n",
      "Epoch 45/50\n",
      "20/20 [==============================] - 18s 925ms/step - loss: 0.4694 - accuracy: 0.8912 - val_loss: 0.5345 - val_accuracy: 0.8062\n",
      "Epoch 46/50\n",
      "20/20 [==============================] - 18s 932ms/step - loss: 0.4647 - accuracy: 0.9120 - val_loss: 0.5439 - val_accuracy: 0.7835\n",
      "Epoch 47/50\n",
      "20/20 [==============================] - 18s 928ms/step - loss: 0.4736 - accuracy: 0.8892 - val_loss: 0.5328 - val_accuracy: 0.8082\n",
      "Epoch 48/50\n",
      "20/20 [==============================] - 18s 906ms/step - loss: 0.4711 - accuracy: 0.8536 - val_loss: 0.5290 - val_accuracy: 0.8041\n",
      "Epoch 49/50\n",
      "20/20 [==============================] - 18s 923ms/step - loss: 0.4604 - accuracy: 0.9097 - val_loss: 0.5224 - val_accuracy: 0.8124\n",
      "Epoch 50/50\n",
      "20/20 [==============================] - 18s 928ms/step - loss: 0.4248 - accuracy: 0.9487 - val_loss: 0.5143 - val_accuracy: 0.8165\n"
     ]
    }
   ],
   "source": [
    "history5 = modelE.fit(train_generator3,\n",
    "                     steps_per_epoch=20,\n",
    "                     epochs = 50,  \n",
    "                     validation_data = valid_generator3)"
   ]
  },
  {
   "cell_type": "code",
   "execution_count": 57,
   "metadata": {},
   "outputs": [],
   "source": [
    "modelE.save('model_5.h5')"
   ]
  },
  {
   "cell_type": "code",
   "execution_count": 58,
   "metadata": {},
   "outputs": [
    {
     "data": {
      "image/png": "[encoded data removed]",
      "text/plain": [
       "<Figure size 432x288 with 1 Axes>"
      ]
     },
     "metadata": {
      "needs_background": "light"
     },
     "output_type": "display_data"
    },
    {
     "data": {
      "image/png": "[encoded data removed]",
      "text/plain": [
       "<Figure size 432x288 with 1 Axes>"
      ]
     },
     "metadata": {
      "needs_background": "light"
     },
     "output_type": "display_data"
    }
   ],
   "source": [
    "# summarize history for accuracy\n",
    "plt.plot(history5.history['accuracy'])\n",
    "plt.plot(history5.history['val_accuracy'])\n",
    "plt.title('model accuracy')\n",
    "plt.ylabel('accuracy')\n",
    "plt.xlabel('epoch')\n",
    "plt.legend(['train', 'test'], loc='upper left')\n",
    "plt.show()\n",
    "# summarize history for loss\n",
    "plt.plot(history5.history['loss'])\n",
    "plt.plot(history5.history['val_loss'])\n",
    "plt.title('model loss')\n",
    "plt.ylabel('loss')\n",
    "plt.xlabel('epoch')\n",
    "plt.legend(['train', 'test'], loc='upper left')\n",
    "plt.show()"
   ]
  },
  {
   "cell_type": "markdown",
   "metadata": {},
   "source": [
    "En este caso, se observa un aumento de la precisión respecto al modelo anterior, pero el sobreentrenamiento ha empeorado, por lo que aquí sería una buena práctica introducir data augmentation para controlar esto. El data augmentation implica también una reducción de la precisión como se ha visto en los ejemplos anteriores, pero como se ha comentado al principio, se busca la mayor precisión sin sobreentrenamiento."
   ]
  },
  {
   "cell_type": "markdown",
   "metadata": {},
   "source": [
    "## MODELO DE CLASIFICACIÓN DE TRES CLASES"
   ]
  },
  {
   "cell_type": "markdown",
   "metadata": {},
   "source": [
    "Se emplean estas tres marcas de coches porque cuentan con un número similar de imágenes, para que no queden muy desbalanceadas entre ellas."
   ]
  },
  {
   "cell_type": "code",
   "execution_count": 13,
   "metadata": {},
   "outputs": [],
   "source": [
    "marcas_filtradas = ['Alfa Romeo','Rolls-Royce','Lamborghini']\n",
    "df_seleccion2 = df.loc[df['Marca'].isin(marcas_filtradas)].reset_index().drop(\"index\", axis = 1)"
   ]
  },
  {
   "cell_type": "code",
   "execution_count": 14,
   "metadata": {},
   "outputs": [
    {
     "data": {
      "text/html": [
       "<div>\n",
       "<style scoped>\n",
       "    .dataframe tbody tr th:only-of-type {\n",
       "        vertical-align: middle;\n",
       "    }\n",
       "\n",
       "    .dataframe tbody tr th {\n",
       "        vertical-align: top;\n",
       "    }\n",
       "\n",
       "    .dataframe thead th {\n",
       "        text-align: right;\n",
       "    }\n",
       "</style>\n",
       "<table border=\"1\" class=\"dataframe\">\n",
       "  <thead>\n",
       "    <tr style=\"text-align: right;\">\n",
       "      <th></th>\n",
       "      <th>Lista_imagenes</th>\n",
       "      <th>Marca</th>\n",
       "    </tr>\n",
       "  </thead>\n",
       "  <tbody>\n",
       "    <tr>\n",
       "      <th>0</th>\n",
       "      <td>Alfa Romeo_4C Spider_2020_67_17_230_17_4_73_46...</td>\n",
       "      <td>Alfa Romeo</td>\n",
       "    </tr>\n",
       "    <tr>\n",
       "      <th>1</th>\n",
       "      <td>Alfa Romeo_Stelvio_2020_43_18_280_20_4_74_66_1...</td>\n",
       "      <td>Alfa Romeo</td>\n",
       "    </tr>\n",
       "    <tr>\n",
       "      <th>2</th>\n",
       "      <td>Rolls-Royce_Ghost_2012_246_19_560_66_12_76_61_...</td>\n",
       "      <td>Rolls-Royce</td>\n",
       "    </tr>\n",
       "    <tr>\n",
       "      <th>3</th>\n",
       "      <td>Lamborghini_Huracan_2016_262_20_600_52_10_75_4...</td>\n",
       "      <td>Lamborghini</td>\n",
       "    </tr>\n",
       "    <tr>\n",
       "      <th>4</th>\n",
       "      <td>Lamborghini_Aventador_2019_417_20_720_65_12_79...</td>\n",
       "      <td>Lamborghini</td>\n",
       "    </tr>\n",
       "    <tr>\n",
       "      <th>...</th>\n",
       "      <td>...</td>\n",
       "      <td>...</td>\n",
       "    </tr>\n",
       "    <tr>\n",
       "      <th>813</th>\n",
       "      <td>Alfa Romeo_Stelvio_2020_43_18_280_20_4_74_66_1...</td>\n",
       "      <td>Alfa Romeo</td>\n",
       "    </tr>\n",
       "    <tr>\n",
       "      <th>814</th>\n",
       "      <td>Alfa Romeo_4C_2019_nan_nan_nan_nan_nan_nan_nan...</td>\n",
       "      <td>Alfa Romeo</td>\n",
       "    </tr>\n",
       "    <tr>\n",
       "      <th>815</th>\n",
       "      <td>Alfa Romeo_Stelvio_2020_43_18_280_20_4_74_66_1...</td>\n",
       "      <td>Alfa Romeo</td>\n",
       "    </tr>\n",
       "    <tr>\n",
       "      <th>816</th>\n",
       "      <td>Alfa Romeo_Giulia_2017_39_17_280_20_4_73_56_18...</td>\n",
       "      <td>Alfa Romeo</td>\n",
       "    </tr>\n",
       "    <tr>\n",
       "      <th>817</th>\n",
       "      <td>Lamborghini_Huracan_2015_237_20_600_52_10_75_4...</td>\n",
       "      <td>Lamborghini</td>\n",
       "    </tr>\n",
       "  </tbody>\n",
       "</table>\n",
       "<p>818 rows × 2 columns</p>\n",
       "</div>"
      ],
      "text/plain": [
       "                                        Lista_imagenes        Marca\n",
       "0    Alfa Romeo_4C Spider_2020_67_17_230_17_4_73_46...   Alfa Romeo\n",
       "1    Alfa Romeo_Stelvio_2020_43_18_280_20_4_74_66_1...   Alfa Romeo\n",
       "2    Rolls-Royce_Ghost_2012_246_19_560_66_12_76_61_...  Rolls-Royce\n",
       "3    Lamborghini_Huracan_2016_262_20_600_52_10_75_4...  Lamborghini\n",
       "4    Lamborghini_Aventador_2019_417_20_720_65_12_79...  Lamborghini\n",
       "..                                                 ...          ...\n",
       "813  Alfa Romeo_Stelvio_2020_43_18_280_20_4_74_66_1...   Alfa Romeo\n",
       "814  Alfa Romeo_4C_2019_nan_nan_nan_nan_nan_nan_nan...   Alfa Romeo\n",
       "815  Alfa Romeo_Stelvio_2020_43_18_280_20_4_74_66_1...   Alfa Romeo\n",
       "816  Alfa Romeo_Giulia_2017_39_17_280_20_4_73_56_18...   Alfa Romeo\n",
       "817  Lamborghini_Huracan_2015_237_20_600_52_10_75_4...  Lamborghini\n",
       "\n",
       "[818 rows x 2 columns]"
      ]
     },
     "execution_count": 14,
     "metadata": {},
     "output_type": "execute_result"
    }
   ],
   "source": [
    "df_seleccion2"
   ]
  },
  {
   "cell_type": "code",
   "execution_count": 15,
   "metadata": {},
   "outputs": [],
   "source": [
    "df_seleccion2['Marca_cat']=[1 if marca=='Alfa Romeo' else 2 if marca=='Rolls-Royce' else 3 for marca in df_seleccion2['Marca']]"
   ]
  },
  {
   "cell_type": "code",
   "execution_count": 62,
   "metadata": {},
   "outputs": [
    {
     "data": {
      "text/html": [
       "<div>\n",
       "<style scoped>\n",
       "    .dataframe tbody tr th:only-of-type {\n",
       "        vertical-align: middle;\n",
       "    }\n",
       "\n",
       "    .dataframe tbody tr th {\n",
       "        vertical-align: top;\n",
       "    }\n",
       "\n",
       "    .dataframe thead th {\n",
       "        text-align: right;\n",
       "    }\n",
       "</style>\n",
       "<table border=\"1\" class=\"dataframe\">\n",
       "  <thead>\n",
       "    <tr style=\"text-align: right;\">\n",
       "      <th></th>\n",
       "      <th>Lista_imagenes</th>\n",
       "      <th>Marca</th>\n",
       "      <th>Marca_cat</th>\n",
       "    </tr>\n",
       "  </thead>\n",
       "  <tbody>\n",
       "    <tr>\n",
       "      <th>0</th>\n",
       "      <td>Alfa Romeo_4C Spider_2020_67_17_230_17_4_73_46...</td>\n",
       "      <td>Alfa Romeo</td>\n",
       "      <td>1</td>\n",
       "    </tr>\n",
       "    <tr>\n",
       "      <th>1</th>\n",
       "      <td>Alfa Romeo_Stelvio_2020_43_18_280_20_4_74_66_1...</td>\n",
       "      <td>Alfa Romeo</td>\n",
       "      <td>1</td>\n",
       "    </tr>\n",
       "    <tr>\n",
       "      <th>2</th>\n",
       "      <td>Rolls-Royce_Ghost_2012_246_19_560_66_12_76_61_...</td>\n",
       "      <td>Rolls-Royce</td>\n",
       "      <td>2</td>\n",
       "    </tr>\n",
       "    <tr>\n",
       "      <th>3</th>\n",
       "      <td>Lamborghini_Huracan_2016_262_20_600_52_10_75_4...</td>\n",
       "      <td>Lamborghini</td>\n",
       "      <td>3</td>\n",
       "    </tr>\n",
       "    <tr>\n",
       "      <th>4</th>\n",
       "      <td>Lamborghini_Aventador_2019_417_20_720_65_12_79...</td>\n",
       "      <td>Lamborghini</td>\n",
       "      <td>3</td>\n",
       "    </tr>\n",
       "    <tr>\n",
       "      <th>5</th>\n",
       "      <td>Alfa Romeo_Stelvio_2020_43_18_280_20_4_74_66_1...</td>\n",
       "      <td>Alfa Romeo</td>\n",
       "      <td>1</td>\n",
       "    </tr>\n",
       "    <tr>\n",
       "      <th>6</th>\n",
       "      <td>Rolls-Royce_Phantom_2011_380_21_450_67_12_78_6...</td>\n",
       "      <td>Rolls-Royce</td>\n",
       "      <td>2</td>\n",
       "    </tr>\n",
       "    <tr>\n",
       "      <th>7</th>\n",
       "      <td>Lamborghini_Huracan_2016_262_20_600_52_10_75_4...</td>\n",
       "      <td>Lamborghini</td>\n",
       "      <td>3</td>\n",
       "    </tr>\n",
       "    <tr>\n",
       "      <th>8</th>\n",
       "      <td>Alfa Romeo_Stelvio_2020_43_18_280_20_4_74_66_1...</td>\n",
       "      <td>Alfa Romeo</td>\n",
       "      <td>1</td>\n",
       "    </tr>\n",
       "    <tr>\n",
       "      <th>9</th>\n",
       "      <td>Alfa Romeo_Giulia_2020_41_17_280_20_4_73_56_18...</td>\n",
       "      <td>Alfa Romeo</td>\n",
       "      <td>1</td>\n",
       "    </tr>\n",
       "  </tbody>\n",
       "</table>\n",
       "</div>"
      ],
      "text/plain": [
       "                                      Lista_imagenes        Marca  Marca_cat\n",
       "0  Alfa Romeo_4C Spider_2020_67_17_230_17_4_73_46...   Alfa Romeo          1\n",
       "1  Alfa Romeo_Stelvio_2020_43_18_280_20_4_74_66_1...   Alfa Romeo          1\n",
       "2  Rolls-Royce_Ghost_2012_246_19_560_66_12_76_61_...  Rolls-Royce          2\n",
       "3  Lamborghini_Huracan_2016_262_20_600_52_10_75_4...  Lamborghini          3\n",
       "4  Lamborghini_Aventador_2019_417_20_720_65_12_79...  Lamborghini          3\n",
       "5  Alfa Romeo_Stelvio_2020_43_18_280_20_4_74_66_1...   Alfa Romeo          1\n",
       "6  Rolls-Royce_Phantom_2011_380_21_450_67_12_78_6...  Rolls-Royce          2\n",
       "7  Lamborghini_Huracan_2016_262_20_600_52_10_75_4...  Lamborghini          3\n",
       "8  Alfa Romeo_Stelvio_2020_43_18_280_20_4_74_66_1...   Alfa Romeo          1\n",
       "9  Alfa Romeo_Giulia_2020_41_17_280_20_4_73_56_18...   Alfa Romeo          1"
      ]
     },
     "execution_count": 62,
     "metadata": {},
     "output_type": "execute_result"
    }
   ],
   "source": [
    "df_seleccion2.head(10)"
   ]
  },
  {
   "cell_type": "markdown",
   "metadata": {},
   "source": [
    "## TERCER MODELO CNN PARA TRES CLASES"
   ]
  },
  {
   "cell_type": "markdown",
   "metadata": {},
   "source": [
    "Se emplea el mismo modelo que con el clasificador de dos clases, pero en este caso para las tres clases, por lo que se modifica el train generator."
   ]
  },
  {
   "cell_type": "code",
   "execution_count": 63,
   "metadata": {},
   "outputs": [
    {
     "name": "stdout",
     "output_type": "stream",
     "text": [
      "Found 655 validated image filenames belonging to 3 classes.\n",
      "Found 163 validated image filenames belonging to 3 classes.\n"
     ]
    }
   ],
   "source": [
    "train_generator3 = datagen.flow_from_dataframe(dataframe = df_seleccion2,\n",
    "                                              directory = directorio_carpeta,\n",
    "                                              x_col = 'Lista_imagenes',\n",
    "                                              y_col = 'Marca',\n",
    "                                              class_mode = 'categorical',\n",
    "                                              batch_size = batch_size,\n",
    "                                              subset = 'training',\n",
    "                                              target_size=(256,256))\n",
    "\n",
    "\n",
    "valid_generator3 = datagen.flow_from_dataframe(dataframe = df_seleccion2,\n",
    "                                              directory = directorio_carpeta,\n",
    "                                              x_col = 'Lista_imagenes',\n",
    "                                              y_col = 'Marca',\n",
    "                                              class_mode = 'categorical',\n",
    "                                              batch_size = batch_size,\n",
    "                                              subset = 'validation',\n",
    "                                              target_size=(256, 256))"
   ]
  },
  {
   "cell_type": "code",
   "execution_count": 68,
   "metadata": {},
   "outputs": [],
   "source": [
    "#clases=len(df_seleccion2['Marca'])\n",
    "\n",
    "model = models.Sequential()\n",
    "model.add(layers.Conv2D(32, (3, 3),padding = 'same',activation='relu',\n",
    "                        input_shape=(256, 256, 3)))\n",
    "model.add(layers.MaxPooling2D((2, 2)))\n",
    "model.add(Dropout(0.2))\n",
    "\n",
    "model.add(layers.Conv2D(64, (3, 3),padding= 'same', activation='relu'))\n",
    "model.add(layers.MaxPooling2D((2, 2)))\n",
    "model.add(Dropout(0.2))\n",
    "\n",
    "model.add(layers.Conv2D(128, (3, 3), padding= 'same', activation='relu'))\n",
    "model.add(layers.MaxPooling2D((2, 2)))\n",
    "model.add(Dropout(0.2))\n",
    "\n",
    "model.add(layers.Flatten())\n",
    "model.add(layers.Dense(128, activation='softmax'))\n",
    "model.add(layers.Dense(32, activation='relu'))\n",
    "model.add(Dense(3, activation = 'softmax'))"
   ]
  },
  {
   "cell_type": "code",
   "execution_count": 69,
   "metadata": {},
   "outputs": [
    {
     "name": "stdout",
     "output_type": "stream",
     "text": [
      "Model: \"sequential_9\"\n",
      "_________________________________________________________________\n",
      "Layer (type)                 Output Shape              Param #   \n",
      "=================================================================\n",
      "conv2d_27 (Conv2D)           (None, 256, 256, 32)      896       \n",
      "_________________________________________________________________\n",
      "max_pooling2d_26 (MaxPooling (None, 128, 128, 32)      0         \n",
      "_________________________________________________________________\n",
      "dropout_21 (Dropout)         (None, 128, 128, 32)      0         \n",
      "_________________________________________________________________\n",
      "conv2d_28 (Conv2D)           (None, 128, 128, 64)      18496     \n",
      "_________________________________________________________________\n",
      "max_pooling2d_27 (MaxPooling (None, 64, 64, 64)        0         \n",
      "_________________________________________________________________\n",
      "dropout_22 (Dropout)         (None, 64, 64, 64)        0         \n",
      "_________________________________________________________________\n",
      "conv2d_29 (Conv2D)           (None, 64, 64, 128)       73856     \n",
      "_________________________________________________________________\n",
      "max_pooling2d_28 (MaxPooling (None, 32, 32, 128)       0         \n",
      "_________________________________________________________________\n",
      "dropout_23 (Dropout)         (None, 32, 32, 128)       0         \n",
      "_________________________________________________________________\n",
      "flatten_9 (Flatten)          (None, 131072)            0         \n",
      "_________________________________________________________________\n",
      "dense_25 (Dense)             (None, 128)               16777344  \n",
      "_________________________________________________________________\n",
      "dense_26 (Dense)             (None, 32)                4128      \n",
      "_________________________________________________________________\n",
      "dense_27 (Dense)             (None, 3)                 99        \n",
      "=================================================================\n",
      "Total params: 16,874,819\n",
      "Trainable params: 16,874,819\n",
      "Non-trainable params: 0\n",
      "_________________________________________________________________\n"
     ]
    }
   ],
   "source": [
    "model.summary()"
   ]
  },
  {
   "cell_type": "code",
   "execution_count": 70,
   "metadata": {},
   "outputs": [],
   "source": [
    "model.compile(loss = 'categorical_crossentropy',\n",
    "              optimizer = optimizers.RMSprop(lr=1e-4),\n",
    "              metrics = ['accuracy'])"
   ]
  },
  {
   "cell_type": "code",
   "execution_count": 71,
   "metadata": {},
   "outputs": [
    {
     "name": "stdout",
     "output_type": "stream",
     "text": [
      "Epoch 1/50\n",
      "20/20 [==============================] - 16s 792ms/step - loss: 1.0977 - accuracy: 0.3447 - val_loss: 1.0933 - val_accuracy: 0.3681\n",
      "Epoch 2/50\n",
      "20/20 [==============================] - 16s 779ms/step - loss: 1.0961 - accuracy: 0.3558 - val_loss: 1.0972 - val_accuracy: 0.3681\n",
      "Epoch 3/50\n",
      "20/20 [==============================] - 16s 795ms/step - loss: 1.0976 - accuracy: 0.3547 - val_loss: 1.0948 - val_accuracy: 0.5092\n",
      "Epoch 4/50\n",
      "20/20 [==============================] - 16s 817ms/step - loss: 1.0897 - accuracy: 0.4696 - val_loss: 1.0863 - val_accuracy: 0.5031\n",
      "Epoch 5/50\n",
      "20/20 [==============================] - 16s 807ms/step - loss: 1.0759 - accuracy: 0.5037 - val_loss: 1.0827 - val_accuracy: 0.5031\n",
      "Epoch 6/50\n",
      "20/20 [==============================] - 16s 814ms/step - loss: 1.0740 - accuracy: 0.5014 - val_loss: 1.0795 - val_accuracy: 0.4847\n",
      "Epoch 7/50\n",
      "20/20 [==============================] - 16s 797ms/step - loss: 1.0824 - accuracy: 0.4314 - val_loss: 1.0747 - val_accuracy: 0.4908\n",
      "Epoch 8/50\n",
      "20/20 [==============================] - 16s 790ms/step - loss: 1.0663 - accuracy: 0.5071 - val_loss: 1.0723 - val_accuracy: 0.5031\n",
      "Epoch 9/50\n",
      "20/20 [==============================] - 16s 787ms/step - loss: 1.0654 - accuracy: 0.5412 - val_loss: 1.0703 - val_accuracy: 0.4847\n",
      "Epoch 10/50\n",
      "20/20 [==============================] - 16s 786ms/step - loss: 1.0719 - accuracy: 0.4790 - val_loss: 1.0737 - val_accuracy: 0.4785\n",
      "Epoch 11/50\n",
      "20/20 [==============================] - 17s 845ms/step - loss: 1.0600 - accuracy: 0.5133 - val_loss: 1.0664 - val_accuracy: 0.4847\n",
      "Epoch 12/50\n",
      "20/20 [==============================] - 16s 809ms/step - loss: 1.0488 - accuracy: 0.5445 - val_loss: 1.0683 - val_accuracy: 0.4663\n",
      "Epoch 13/50\n",
      "20/20 [==============================] - 16s 785ms/step - loss: 1.0636 - accuracy: 0.4861 - val_loss: 1.0682 - val_accuracy: 0.5337\n",
      "Epoch 14/50\n",
      "20/20 [==============================] - 16s 788ms/step - loss: 1.0622 - accuracy: 0.5014 - val_loss: 1.0609 - val_accuracy: 0.4969\n",
      "Epoch 15/50\n",
      "20/20 [==============================] - 16s 786ms/step - loss: 1.0488 - accuracy: 0.5669 - val_loss: 1.0592 - val_accuracy: 0.5031\n",
      "Epoch 16/50\n",
      "20/20 [==============================] - 16s 797ms/step - loss: 1.0484 - accuracy: 0.5738 - val_loss: 1.0562 - val_accuracy: 0.5031\n",
      "Epoch 17/50\n",
      "20/20 [==============================] - 16s 782ms/step - loss: 1.0487 - accuracy: 0.5523 - val_loss: 1.0524 - val_accuracy: 0.5337\n",
      "Epoch 18/50\n",
      "20/20 [==============================] - 16s 795ms/step - loss: 1.0379 - accuracy: 0.5820 - val_loss: 1.0505 - val_accuracy: 0.5276\n",
      "Epoch 19/50\n",
      "20/20 [==============================] - 16s 785ms/step - loss: 1.0421 - accuracy: 0.5577 - val_loss: 1.0498 - val_accuracy: 0.5215\n",
      "Epoch 20/50\n",
      "20/20 [==============================] - 16s 797ms/step - loss: 1.0348 - accuracy: 0.5944 - val_loss: 1.0457 - val_accuracy: 0.5399\n",
      "Epoch 21/50\n",
      "20/20 [==============================] - 16s 797ms/step - loss: 1.0187 - accuracy: 0.6314 - val_loss: 1.0476 - val_accuracy: 0.5399\n",
      "Epoch 22/50\n",
      "20/20 [==============================] - 16s 802ms/step - loss: 1.0073 - accuracy: 0.6755 - val_loss: 1.0461 - val_accuracy: 0.5215\n",
      "Epoch 23/50\n",
      "20/20 [==============================] - 16s 797ms/step - loss: 1.0185 - accuracy: 0.6165 - val_loss: 1.0418 - val_accuracy: 0.5337\n",
      "Epoch 24/50\n",
      "20/20 [==============================] - 16s 789ms/step - loss: 1.0268 - accuracy: 0.5859 - val_loss: 1.0365 - val_accuracy: 0.5767\n",
      "Epoch 25/50\n",
      "20/20 [==============================] - 16s 799ms/step - loss: 1.0140 - accuracy: 0.6272 - val_loss: 1.0307 - val_accuracy: 0.5706\n",
      "Epoch 26/50\n",
      "20/20 [==============================] - 16s 794ms/step - loss: 1.0050 - accuracy: 0.6419 - val_loss: 1.0327 - val_accuracy: 0.5215\n",
      "Epoch 27/50\n",
      "20/20 [==============================] - 16s 794ms/step - loss: 0.9997 - accuracy: 0.6289 - val_loss: 1.0280 - val_accuracy: 0.5706\n",
      "Epoch 28/50\n",
      "20/20 [==============================] - 16s 795ms/step - loss: 0.9902 - accuracy: 0.6471 - val_loss: 1.0248 - val_accuracy: 0.5583\n",
      "Epoch 29/50\n",
      "20/20 [==============================] - 16s 796ms/step - loss: 0.9906 - accuracy: 0.6581 - val_loss: 1.0231 - val_accuracy: 0.5644\n",
      "Epoch 30/50\n",
      "20/20 [==============================] - 16s 795ms/step - loss: 0.9826 - accuracy: 0.6642 - val_loss: 1.0211 - val_accuracy: 0.5583\n",
      "Epoch 31/50\n",
      "20/20 [==============================] - 16s 800ms/step - loss: 0.9879 - accuracy: 0.6526 - val_loss: 1.0257 - val_accuracy: 0.5460\n",
      "Epoch 32/50\n",
      "20/20 [==============================] - 16s 791ms/step - loss: 0.9585 - accuracy: 0.7145 - val_loss: 1.0254 - val_accuracy: 0.5583\n",
      "Epoch 33/50\n",
      "20/20 [==============================] - 16s 786ms/step - loss: 0.9826 - accuracy: 0.6509 - val_loss: 1.0076 - val_accuracy: 0.5828\n",
      "Epoch 34/50\n",
      "20/20 [==============================] - 16s 789ms/step - loss: 0.9493 - accuracy: 0.7166 - val_loss: 1.0124 - val_accuracy: 0.5644\n",
      "Epoch 35/50\n",
      "20/20 [==============================] - 16s 799ms/step - loss: 0.9246 - accuracy: 0.7665 - val_loss: 1.0047 - val_accuracy: 0.5706\n",
      "Epoch 36/50\n",
      "20/20 [==============================] - 16s 797ms/step - loss: 0.9468 - accuracy: 0.6741 - val_loss: 0.9976 - val_accuracy: 0.5828\n",
      "Epoch 37/50\n",
      "20/20 [==============================] - 16s 786ms/step - loss: 0.9290 - accuracy: 0.7437 - val_loss: 1.0001 - val_accuracy: 0.5767\n",
      "Epoch 38/50\n",
      "20/20 [==============================] - 16s 812ms/step - loss: 0.9384 - accuracy: 0.7028 - val_loss: 0.9901 - val_accuracy: 0.5706\n",
      "Epoch 39/50\n",
      "20/20 [==============================] - 16s 791ms/step - loss: 0.9411 - accuracy: 0.7040 - val_loss: 0.9874 - val_accuracy: 0.5951\n",
      "Epoch 40/50\n",
      "20/20 [==============================] - 16s 796ms/step - loss: 0.9046 - accuracy: 0.7420 - val_loss: 1.0020 - val_accuracy: 0.5337\n",
      "Epoch 41/50\n",
      "20/20 [==============================] - 16s 785ms/step - loss: 0.9200 - accuracy: 0.6862 - val_loss: 0.9857 - val_accuracy: 0.5767\n",
      "Epoch 42/50\n",
      "20/20 [==============================] - 16s 792ms/step - loss: 0.9057 - accuracy: 0.7273 - val_loss: 0.9796 - val_accuracy: 0.5951\n",
      "Epoch 43/50\n",
      "20/20 [==============================] - 16s 791ms/step - loss: 0.8909 - accuracy: 0.7341 - val_loss: 0.9778 - val_accuracy: 0.5767\n",
      "Epoch 44/50\n",
      "20/20 [==============================] - 16s 795ms/step - loss: 0.8744 - accuracy: 0.7689 - val_loss: 0.9704 - val_accuracy: 0.6012\n",
      "Epoch 45/50\n",
      "20/20 [==============================] - 16s 820ms/step - loss: 0.8491 - accuracy: 0.8145 - val_loss: 0.9722 - val_accuracy: 0.5828\n",
      "Epoch 46/50\n",
      "20/20 [==============================] - 16s 792ms/step - loss: 0.8662 - accuracy: 0.7684 - val_loss: 0.9692 - val_accuracy: 0.5890\n",
      "Epoch 47/50\n",
      "20/20 [==============================] - 16s 788ms/step - loss: 0.8533 - accuracy: 0.8023 - val_loss: 0.9720 - val_accuracy: 0.5767\n",
      "Epoch 48/50\n",
      "20/20 [==============================] - 16s 796ms/step - loss: 0.8688 - accuracy: 0.7770 - val_loss: 0.9608 - val_accuracy: 0.6196\n",
      "Epoch 49/50\n",
      "20/20 [==============================] - 16s 817ms/step - loss: 0.8234 - accuracy: 0.8542 - val_loss: 0.9515 - val_accuracy: 0.6258\n",
      "Epoch 50/50\n",
      "20/20 [==============================] - 16s 801ms/step - loss: 0.8281 - accuracy: 0.8242 - val_loss: 0.9672 - val_accuracy: 0.6196\n"
     ]
    }
   ],
   "source": [
    "history6 = model.fit(train_generator3,\n",
    "                     steps_per_epoch=20,\n",
    "                     epochs = 50,  \n",
    "                     validation_data = valid_generator3)"
   ]
  },
  {
   "cell_type": "code",
   "execution_count": 72,
   "metadata": {},
   "outputs": [],
   "source": [
    "model.save('model_6.h5')"
   ]
  },
  {
   "cell_type": "code",
   "execution_count": 73,
   "metadata": {},
   "outputs": [
    {
     "data": {
      "image/png": "[encoded data removed]",
      "text/plain": [
       "<Figure size 432x288 with 1 Axes>"
      ]
     },
     "metadata": {
      "needs_background": "light"
     },
     "output_type": "display_data"
    },
    {
     "data": {
      "image/png": "[encoded data removed]",
      "text/plain": [
       "<Figure size 432x288 with 1 Axes>"
      ]
     },
     "metadata": {
      "needs_background": "light"
     },
     "output_type": "display_data"
    }
   ],
   "source": [
    "# summarize history for accuracy\n",
    "plt.plot(history6.history['accuracy'])\n",
    "plt.plot(history6.history['val_accuracy'])\n",
    "plt.title('model accuracy')\n",
    "plt.ylabel('accuracy')\n",
    "plt.xlabel('epoch')\n",
    "plt.legend(['train', 'test'], loc='upper left')\n",
    "plt.show()\n",
    "# summarize history for loss\n",
    "plt.plot(history6.history['loss'])\n",
    "plt.plot(history6.history['val_loss'])\n",
    "plt.title('model loss')\n",
    "plt.ylabel('loss')\n",
    "plt.xlabel('epoch')\n",
    "plt.legend(['train', 'test'], loc='upper left')\n",
    "plt.show()"
   ]
  },
  {
   "cell_type": "markdown",
   "metadata": {},
   "source": [
    "El sobreentrenamiento encontrado en este modelo es muy notable, mucho mayor que para los modelos de clasificación de dos clases. Esto puede deberse al escaso número de imágenes que se dispone para ambos conjuntos. En este caso, se vuelve necesario introducir data augmentation para controlar esto."
   ]
  },
  {
   "cell_type": "code",
   "execution_count": 78,
   "metadata": {},
   "outputs": [],
   "source": [
    "modelA = models.Sequential()\n",
    "modelA.add(layers.Conv2D(32, (3, 3),padding = 'same',activation='relu',\n",
    "                        input_shape=(256, 256, 3)))\n",
    "modelA.add(layers.MaxPooling2D((2, 2)))\n",
    "modelA.add(Dropout(0.2))\n",
    "\n",
    "modelA.add(layers.Conv2D(64, (3, 3),padding= 'same', activation='relu'))\n",
    "modelA.add(layers.MaxPooling2D((2, 2)))\n",
    "modelA.add(Dropout(0.2))\n",
    "\n",
    "modelA.add(layers.Conv2D(128, (3, 3), padding= 'same', activation='relu'))\n",
    "modelA.add(layers.MaxPooling2D((2, 2)))\n",
    "modelA.add(Dropout(0.2))\n",
    "\n",
    "modelA.add(layers.Flatten())\n",
    "modelA.add(layers.Dense(64, activation='softmax'))\n",
    "modelA.add(layers.Dense(32, activation='relu'))\n",
    "modelA.add(Dense(3, activation = 'softmax'))"
   ]
  },
  {
   "cell_type": "code",
   "execution_count": 79,
   "metadata": {},
   "outputs": [],
   "source": [
    "modelA.compile(loss = 'categorical_crossentropy',\n",
    "              optimizer = optimizers.RMSprop(lr=1e-4),\n",
    "              metrics = ['accuracy'])"
   ]
  },
  {
   "cell_type": "code",
   "execution_count": 18,
   "metadata": {},
   "outputs": [
    {
     "name": "stdout",
     "output_type": "stream",
     "text": [
      "Found 655 validated image filenames belonging to 3 classes.\n",
      "Found 163 validated image filenames belonging to 3 classes.\n"
     ]
    }
   ],
   "source": [
    "#batch_size=20\n",
    "train_generator4 = train_datagen.flow_from_dataframe(dataframe = df_seleccion2,\n",
    "                                                    directory = directorio_carpeta,\n",
    "                                                    x_col = 'Lista_imagenes',\n",
    "                                                    y_col = 'Marca',\n",
    "                                                    class_mode = 'categorical',\n",
    "                                                    batch_size = batch_size,\n",
    "                                                    subset = 'training',\n",
    "                                                    target_size = (256, 256))\n",
    "\n",
    "valid_generator4 = train_datagen.flow_from_dataframe(dataframe = df_seleccion2,\n",
    "                                              directory = directorio_carpeta,\n",
    "                                              x_col = 'Lista_imagenes',\n",
    "                                              y_col = 'Marca',\n",
    "                                              class_mode = 'categorical',\n",
    "                                              batch_size = batch_size,\n",
    "                                              subset = 'validation',\n",
    "                                              target_size = (256, 256))"
   ]
  },
  {
   "cell_type": "code",
   "execution_count": 81,
   "metadata": {},
   "outputs": [
    {
     "name": "stdout",
     "output_type": "stream",
     "text": [
      "Epoch 1/50\n",
      "20/20 [==============================] - 17s 796ms/step - loss: 1.1019 - accuracy: 0.3225 - val_loss: 1.1007 - val_accuracy: 0.2638\n",
      "Epoch 2/50\n",
      "20/20 [==============================] - 15s 766ms/step - loss: 1.0981 - accuracy: 0.2971 - val_loss: 1.0961 - val_accuracy: 0.3681\n",
      "Epoch 3/50\n",
      "20/20 [==============================] - 16s 781ms/step - loss: 1.0983 - accuracy: 0.3492 - val_loss: 1.0953 - val_accuracy: 0.3681\n",
      "Epoch 4/50\n",
      "20/20 [==============================] - 16s 801ms/step - loss: 1.0983 - accuracy: 0.3446 - val_loss: 1.0937 - val_accuracy: 0.4663\n",
      "Epoch 5/50\n",
      "20/20 [==============================] - 16s 800ms/step - loss: 1.0948 - accuracy: 0.3777 - val_loss: 1.0922 - val_accuracy: 0.4908\n",
      "Epoch 6/50\n",
      "20/20 [==============================] - 16s 789ms/step - loss: 1.0833 - accuracy: 0.4578 - val_loss: 1.0849 - val_accuracy: 0.4724\n",
      "Epoch 7/50\n",
      "20/20 [==============================] - 16s 779ms/step - loss: 1.0801 - accuracy: 0.4607 - val_loss: 1.0788 - val_accuracy: 0.4969\n",
      "Epoch 8/50\n",
      "20/20 [==============================] - 16s 777ms/step - loss: 1.0679 - accuracy: 0.4882 - val_loss: 1.0769 - val_accuracy: 0.5092\n",
      "Epoch 9/50\n",
      "20/20 [==============================] - 16s 776ms/step - loss: 1.0545 - accuracy: 0.4984 - val_loss: 1.0719 - val_accuracy: 0.5031\n",
      "Epoch 10/50\n",
      "20/20 [==============================] - 16s 781ms/step - loss: 1.0646 - accuracy: 0.4267 - val_loss: 1.0650 - val_accuracy: 0.5153\n",
      "Epoch 11/50\n",
      "20/20 [==============================] - 16s 776ms/step - loss: 1.0664 - accuracy: 0.4696 - val_loss: 1.0655 - val_accuracy: 0.4969\n",
      "Epoch 12/50\n",
      "20/20 [==============================] - 15s 761ms/step - loss: 1.0579 - accuracy: 0.4843 - val_loss: 1.0730 - val_accuracy: 0.4233\n",
      "Epoch 13/50\n",
      "20/20 [==============================] - 16s 785ms/step - loss: 1.0378 - accuracy: 0.5426 - val_loss: 1.0597 - val_accuracy: 0.5276\n",
      "Epoch 14/50\n",
      "20/20 [==============================] - 16s 775ms/step - loss: 1.0446 - accuracy: 0.5112 - val_loss: 1.0580 - val_accuracy: 0.5092\n",
      "Epoch 15/50\n",
      "20/20 [==============================] - 16s 778ms/step - loss: 1.0446 - accuracy: 0.4964 - val_loss: 1.0505 - val_accuracy: 0.5276\n",
      "Epoch 16/50\n",
      "20/20 [==============================] - 16s 770ms/step - loss: 1.0414 - accuracy: 0.5084 - val_loss: 1.0516 - val_accuracy: 0.5215\n",
      "Epoch 17/50\n",
      "20/20 [==============================] - 16s 776ms/step - loss: 1.0431 - accuracy: 0.5121 - val_loss: 1.0489 - val_accuracy: 0.5337\n",
      "Epoch 18/50\n",
      "20/20 [==============================] - 15s 765ms/step - loss: 1.0471 - accuracy: 0.4668 - val_loss: 1.0556 - val_accuracy: 0.4908\n",
      "Epoch 19/50\n",
      "20/20 [==============================] - 15s 775ms/step - loss: 1.0322 - accuracy: 0.5088 - val_loss: 1.0433 - val_accuracy: 0.5215\n",
      "Epoch 20/50\n",
      "20/20 [==============================] - 16s 771ms/step - loss: 1.0190 - accuracy: 0.5390 - val_loss: 1.0415 - val_accuracy: 0.5460\n",
      "Epoch 21/50\n",
      "20/20 [==============================] - 16s 772ms/step - loss: 1.0280 - accuracy: 0.5338 - val_loss: 1.0385 - val_accuracy: 0.5399\n",
      "Epoch 22/50\n",
      "20/20 [==============================] - 16s 769ms/step - loss: 1.0133 - accuracy: 0.5557 - val_loss: 1.0402 - val_accuracy: 0.5276\n",
      "Epoch 23/50\n",
      "20/20 [==============================] - 16s 771ms/step - loss: 1.0183 - accuracy: 0.5325 - val_loss: 1.0421 - val_accuracy: 0.5337\n",
      "Epoch 24/50\n",
      "20/20 [==============================] - 16s 780ms/step - loss: 1.0034 - accuracy: 0.6234 - val_loss: 1.0298 - val_accuracy: 0.5583\n",
      "Epoch 25/50\n",
      "20/20 [==============================] - 16s 776ms/step - loss: 1.0207 - accuracy: 0.5463 - val_loss: 1.0300 - val_accuracy: 0.5215\n",
      "Epoch 26/50\n",
      "20/20 [==============================] - 16s 763ms/step - loss: 1.0384 - accuracy: 0.4900 - val_loss: 1.0250 - val_accuracy: 0.5337\n",
      "Epoch 27/50\n",
      "20/20 [==============================] - 16s 775ms/step - loss: 1.0332 - accuracy: 0.5143 - val_loss: 1.0245 - val_accuracy: 0.5706\n",
      "Epoch 28/50\n",
      "20/20 [==============================] - 16s 771ms/step - loss: 1.0049 - accuracy: 0.5785 - val_loss: 1.0224 - val_accuracy: 0.5215\n",
      "Epoch 29/50\n",
      "20/20 [==============================] - 16s 767ms/step - loss: 1.0416 - accuracy: 0.4714 - val_loss: 1.0214 - val_accuracy: 0.5460\n",
      "Epoch 30/50\n",
      "20/20 [==============================] - 16s 778ms/step - loss: 0.9956 - accuracy: 0.5814 - val_loss: 1.0343 - val_accuracy: 0.5706\n",
      "Epoch 31/50\n",
      "20/20 [==============================] - 16s 772ms/step - loss: 1.0149 - accuracy: 0.5607 - val_loss: 1.0199 - val_accuracy: 0.5337\n",
      "Epoch 32/50\n",
      "20/20 [==============================] - 16s 770ms/step - loss: 1.0104 - accuracy: 0.5409 - val_loss: 1.0212 - val_accuracy: 0.5644\n",
      "Epoch 33/50\n",
      "20/20 [==============================] - 16s 768ms/step - loss: 1.0049 - accuracy: 0.5878 - val_loss: 1.0168 - val_accuracy: 0.5644\n",
      "Epoch 34/50\n",
      "20/20 [==============================] - 15s 764ms/step - loss: 1.0179 - accuracy: 0.5657 - val_loss: 1.0139 - val_accuracy: 0.5706\n",
      "Epoch 35/50\n",
      "20/20 [==============================] - 16s 771ms/step - loss: 0.9870 - accuracy: 0.6474 - val_loss: 1.0123 - val_accuracy: 0.5767\n",
      "Epoch 36/50\n",
      "20/20 [==============================] - 16s 767ms/step - loss: 0.9786 - accuracy: 0.6212 - val_loss: 1.0174 - val_accuracy: 0.5767\n",
      "Epoch 37/50\n",
      "20/20 [==============================] - 16s 769ms/step - loss: 0.9971 - accuracy: 0.5471 - val_loss: 1.0135 - val_accuracy: 0.5583\n",
      "Epoch 38/50\n",
      "20/20 [==============================] - 16s 771ms/step - loss: 0.9944 - accuracy: 0.6072 - val_loss: 1.0327 - val_accuracy: 0.5767\n",
      "Epoch 39/50\n",
      "20/20 [==============================] - 16s 776ms/step - loss: 1.0020 - accuracy: 0.5840 - val_loss: 1.0030 - val_accuracy: 0.5767\n",
      "Epoch 40/50\n",
      "20/20 [==============================] - 16s 769ms/step - loss: 0.9900 - accuracy: 0.5734 - val_loss: 1.0048 - val_accuracy: 0.5706\n",
      "Epoch 41/50\n",
      "20/20 [==============================] - 16s 775ms/step - loss: 0.9915 - accuracy: 0.5574 - val_loss: 1.0058 - val_accuracy: 0.5460\n",
      "Epoch 42/50\n",
      "20/20 [==============================] - 16s 771ms/step - loss: 0.9968 - accuracy: 0.5817 - val_loss: 0.9973 - val_accuracy: 0.5767\n",
      "Epoch 43/50\n",
      "20/20 [==============================] - 15s 764ms/step - loss: 0.9674 - accuracy: 0.6101 - val_loss: 0.9985 - val_accuracy: 0.5951\n",
      "Epoch 44/50\n",
      "20/20 [==============================] - 16s 771ms/step - loss: 0.9672 - accuracy: 0.6321 - val_loss: 0.9996 - val_accuracy: 0.6196\n",
      "Epoch 45/50\n",
      "20/20 [==============================] - 16s 795ms/step - loss: 0.9839 - accuracy: 0.5989 - val_loss: 0.9937 - val_accuracy: 0.6012\n",
      "Epoch 46/50\n",
      "20/20 [==============================] - 16s 774ms/step - loss: 0.9855 - accuracy: 0.5974 - val_loss: 1.0070 - val_accuracy: 0.5644\n",
      "Epoch 47/50\n",
      "20/20 [==============================] - 16s 771ms/step - loss: 0.9735 - accuracy: 0.6223 - val_loss: 0.9997 - val_accuracy: 0.5767\n",
      "Epoch 48/50\n",
      "20/20 [==============================] - 16s 767ms/step - loss: 0.9542 - accuracy: 0.6204 - val_loss: 0.9945 - val_accuracy: 0.5951\n",
      "Epoch 49/50\n",
      "20/20 [==============================] - 15s 762ms/step - loss: 0.9591 - accuracy: 0.6493 - val_loss: 0.9860 - val_accuracy: 0.6380\n",
      "Epoch 50/50\n",
      "20/20 [==============================] - 16s 769ms/step - loss: 0.9600 - accuracy: 0.6619 - val_loss: 0.9999 - val_accuracy: 0.5153\n"
     ]
    }
   ],
   "source": [
    "history7 = modelA.fit(train_generator4,\n",
    "                     steps_per_epoch=20,\n",
    "                     epochs = 50,  \n",
    "                     validation_data = valid_generator4)"
   ]
  },
  {
   "cell_type": "code",
   "execution_count": 82,
   "metadata": {},
   "outputs": [],
   "source": [
    "modelA.save('model_7.h5')"
   ]
  },
  {
   "cell_type": "code",
   "execution_count": 83,
   "metadata": {},
   "outputs": [
    {
     "data": {
      "image/png": "[encoded data removed]",
      "text/plain": [
       "<Figure size 432x288 with 1 Axes>"
      ]
     },
     "metadata": {
      "needs_background": "light"
     },
     "output_type": "display_data"
    },
    {
     "data": {
      "image/png": "[encoded data removed]",
      "text/plain": [
       "<Figure size 432x288 with 1 Axes>"
      ]
     },
     "metadata": {
      "needs_background": "light"
     },
     "output_type": "display_data"
    }
   ],
   "source": [
    "# summarize history for accuracy\n",
    "plt.plot(history7.history['accuracy'])\n",
    "plt.plot(history7.history['val_accuracy'])\n",
    "plt.title('model accuracy')\n",
    "plt.ylabel('accuracy')\n",
    "plt.xlabel('epoch')\n",
    "plt.legend(['train', 'test'], loc='upper left')\n",
    "plt.show()\n",
    "# summarize history for loss\n",
    "plt.plot(history7.history['loss'])\n",
    "plt.plot(history7.history['val_loss'])\n",
    "plt.title('model loss')\n",
    "plt.ylabel('loss')\n",
    "plt.xlabel('epoch')\n",
    "plt.legend(['train', 'test'], loc='upper left')\n",
    "plt.show()"
   ]
  },
  {
   "cell_type": "markdown",
   "metadata": {},
   "source": [
    "Siguiendo el comportamiento de modelos anteriores, el sobreentrenamiento se ha controlado con el data augmentation, pero se ha penalizado la precisión. "
   ]
  },
  {
   "cell_type": "code",
   "execution_count": null,
   "metadata": {},
   "outputs": [],
   "source": []
  },
  {
   "cell_type": "code",
   "execution_count": null,
   "metadata": {},
   "outputs": [],
   "source": []
  },
  {
   "cell_type": "markdown",
   "metadata": {},
   "source": [
    "Tras haber realizado el estudio de los modelos de clasificación para dos y tres clases, se llega a la conclusión que la introducción de nuevas capas en la red no siempre significa una mejoría del modelo. Se aumentará la precisión sí, pero a costa del sobreentrenamiento, ya que aumenta de forma notable el número de parámetros de la red, y para el número de imágenes que se manejan en esta práctica no es ideal tener un excesivo número de parámetros. Lo ideal sería ir introduciendo data augmentation e ir tocando las funciones de activación de las neuronas de las capas, además de modificar la posibilidad de dropout de las neuronas, o incluso cambiando el tipo de las capas convolucionales a Separable Conv2D, que acelera la convergencia del modelo. El número de épocas seleccionado se podría aumentar, siendo esto un punto interesante de mejora en el último modelo, ya que muestra posibilidades de mejora si se le aumentan las épocas.\n",
    "\n",
    "Una de las vías de mejora del modelo sería con transfer learning, empleando modelos ya entrenados con un gran número de imágenes como puede ser ResNet50. Esto es lo que se muestra a continuación, con el modelo ResNet50 con todas las capas congeladas excepto las del clasificador."
   ]
  },
  {
   "cell_type": "code",
   "execution_count": 4,
   "metadata": {},
   "outputs": [],
   "source": [
    "from keras.applications.resnet50 import ResNet50\n",
    "\n",
    "\n",
    "modelo = ResNet50(weights = 'imagenet',\n",
    "                     include_top = False, \n",
    "                     input_shape = (256, 256, 3))"
   ]
  },
  {
   "cell_type": "code",
   "execution_count": 25,
   "metadata": {},
   "outputs": [],
   "source": [
    "model1 = models.Sequential()\n",
    "\n",
    "model1.add(modelo)\n",
    "model1.add(layers.Flatten())\n",
    "model1.add(layers.Dense(128, activation = 'relu'))\n",
    "model1.add(layers.Dense(3, activation = 'softmax'))"
   ]
  },
  {
   "cell_type": "code",
   "execution_count": 26,
   "metadata": {},
   "outputs": [],
   "source": [
    "model1.compile(loss = 'categorical_crossentropy',\n",
    "              optimizer = optimizers.RMSprop(lr=1e-4),\n",
    "              metrics = ['accuracy'])"
   ]
  },
  {
   "cell_type": "code",
   "execution_count": 23,
   "metadata": {},
   "outputs": [],
   "source": [
    "from keras.callbacks import ModelCheckpoint, EarlyStopping\n",
    "\n",
    "es = EarlyStopping(monitor='val_accuracy', mode='max', verbose=1, patience=20)\n",
    "mc = ModelCheckpoint('best_model.h5', monitor='val_accuracy', mode='max', verbose=1, save_best_only=True)"
   ]
  },
  {
   "cell_type": "markdown",
   "metadata": {},
   "source": [
    "Se introduce Early Stopping ya que se trata de un modelo muy extenso y podría quedarse entrenando mucho tiempo."
   ]
  },
  {
   "cell_type": "code",
   "execution_count": 27,
   "metadata": {},
   "outputs": [
    {
     "name": "stdout",
     "output_type": "stream",
     "text": [
      "Epoch 1/50\n",
      "20/20 [==============================] - 115s 5s/step - loss: 6.0178 - accuracy: 0.4431 - val_loss: 35.7658 - val_accuracy: 0.3167\n",
      "\n",
      "Epoch 00001: val_accuracy improved from -inf to 0.31667, saving model to best_model.h5\n",
      "Epoch 2/50\n",
      "20/20 [==============================] - 104s 5s/step - loss: 0.6750 - accuracy: 0.7612 - val_loss: 6.2402 - val_accuracy: 0.2833\n",
      "\n",
      "Epoch 00002: val_accuracy did not improve from 0.31667\n",
      "Epoch 3/50\n",
      " 2/20 [==>...........................] - ETA: 1:29 - loss: 0.8118 - accuracy: 0.6875"
     ]
    },
    {
     "ename": "KeyboardInterrupt",
     "evalue": "",
     "output_type": "error",
     "traceback": [
      "\u001b[0;31m---------------------------------------------------------------------------\u001b[0m",
      "\u001b[0;31mKeyboardInterrupt\u001b[0m                         Traceback (most recent call last)",
      "\u001b[0;32m<ipython-input-27-98fdc57aec7b>\u001b[0m in \u001b[0;36m<module>\u001b[0;34m\u001b[0m\n\u001b[0;32m----> 1\u001b[0;31m history8 = model1.fit(\n\u001b[0m\u001b[1;32m      2\u001b[0m       \u001b[0mtrain_generator4\u001b[0m\u001b[0;34m,\u001b[0m\u001b[0;34m\u001b[0m\u001b[0;34m\u001b[0m\u001b[0m\n\u001b[1;32m      3\u001b[0m       \u001b[0msteps_per_epoch\u001b[0m\u001b[0;34m=\u001b[0m\u001b[0;36m20\u001b[0m\u001b[0;34m,\u001b[0m\u001b[0;34m\u001b[0m\u001b[0;34m\u001b[0m\u001b[0m\n\u001b[1;32m      4\u001b[0m       \u001b[0mepochs\u001b[0m\u001b[0;34m=\u001b[0m\u001b[0;36m50\u001b[0m\u001b[0;34m,\u001b[0m\u001b[0;34m\u001b[0m\u001b[0;34m\u001b[0m\u001b[0m\n\u001b[1;32m      5\u001b[0m       \u001b[0mvalidation_data\u001b[0m\u001b[0;34m=\u001b[0m\u001b[0mvalid_generator4\u001b[0m\u001b[0;34m,\u001b[0m\u001b[0;34m\u001b[0m\u001b[0;34m\u001b[0m\u001b[0m\n",
      "\u001b[0;32m~/opt/anaconda3/lib/python3.8/site-packages/tensorflow/python/keras/engine/training.py\u001b[0m in \u001b[0;36mfit\u001b[0;34m(self, x, y, batch_size, epochs, verbose, callbacks, validation_split, validation_data, shuffle, class_weight, sample_weight, initial_epoch, steps_per_epoch, validation_steps, validation_batch_size, validation_freq, max_queue_size, workers, use_multiprocessing)\u001b[0m\n\u001b[1;32m   1098\u001b[0m                 _r=1):\n\u001b[1;32m   1099\u001b[0m               \u001b[0mcallbacks\u001b[0m\u001b[0;34m.\u001b[0m\u001b[0mon_train_batch_begin\u001b[0m\u001b[0;34m(\u001b[0m\u001b[0mstep\u001b[0m\u001b[0;34m)\u001b[0m\u001b[0;34m\u001b[0m\u001b[0;34m\u001b[0m\u001b[0m\n\u001b[0;32m-> 1100\u001b[0;31m               \u001b[0mtmp_logs\u001b[0m \u001b[0;34m=\u001b[0m \u001b[0mself\u001b[0m\u001b[0;34m.\u001b[0m\u001b[0mtrain_function\u001b[0m\u001b[0;34m(\u001b[0m\u001b[0miterator\u001b[0m\u001b[0;34m)\u001b[0m\u001b[0;34m\u001b[0m\u001b[0;34m\u001b[0m\u001b[0m\n\u001b[0m\u001b[1;32m   1101\u001b[0m               \u001b[0;32mif\u001b[0m \u001b[0mdata_handler\u001b[0m\u001b[0;34m.\u001b[0m\u001b[0mshould_sync\u001b[0m\u001b[0;34m:\u001b[0m\u001b[0;34m\u001b[0m\u001b[0;34m\u001b[0m\u001b[0m\n\u001b[1;32m   1102\u001b[0m                 \u001b[0mcontext\u001b[0m\u001b[0;34m.\u001b[0m\u001b[0masync_wait\u001b[0m\u001b[0;34m(\u001b[0m\u001b[0;34m)\u001b[0m\u001b[0;34m\u001b[0m\u001b[0;34m\u001b[0m\u001b[0m\n",
      "\u001b[0;32m~/opt/anaconda3/lib/python3.8/site-packages/tensorflow/python/eager/def_function.py\u001b[0m in \u001b[0;36m__call__\u001b[0;34m(self, *args, **kwds)\u001b[0m\n\u001b[1;32m    826\u001b[0m     \u001b[0mtracing_count\u001b[0m \u001b[0;34m=\u001b[0m \u001b[0mself\u001b[0m\u001b[0;34m.\u001b[0m\u001b[0mexperimental_get_tracing_count\u001b[0m\u001b[0;34m(\u001b[0m\u001b[0;34m)\u001b[0m\u001b[0;34m\u001b[0m\u001b[0;34m\u001b[0m\u001b[0m\n\u001b[1;32m    827\u001b[0m     \u001b[0;32mwith\u001b[0m \u001b[0mtrace\u001b[0m\u001b[0;34m.\u001b[0m\u001b[0mTrace\u001b[0m\u001b[0;34m(\u001b[0m\u001b[0mself\u001b[0m\u001b[0;34m.\u001b[0m\u001b[0m_name\u001b[0m\u001b[0;34m)\u001b[0m \u001b[0;32mas\u001b[0m \u001b[0mtm\u001b[0m\u001b[0;34m:\u001b[0m\u001b[0;34m\u001b[0m\u001b[0;34m\u001b[0m\u001b[0m\n\u001b[0;32m--> 828\u001b[0;31m       \u001b[0mresult\u001b[0m \u001b[0;34m=\u001b[0m \u001b[0mself\u001b[0m\u001b[0;34m.\u001b[0m\u001b[0m_call\u001b[0m\u001b[0;34m(\u001b[0m\u001b[0;34m*\u001b[0m\u001b[0margs\u001b[0m\u001b[0;34m,\u001b[0m \u001b[0;34m**\u001b[0m\u001b[0mkwds\u001b[0m\u001b[0;34m)\u001b[0m\u001b[0;34m\u001b[0m\u001b[0;34m\u001b[0m\u001b[0m\n\u001b[0m\u001b[1;32m    829\u001b[0m       \u001b[0mcompiler\u001b[0m \u001b[0;34m=\u001b[0m \u001b[0;34m\"xla\"\u001b[0m \u001b[0;32mif\u001b[0m \u001b[0mself\u001b[0m\u001b[0;34m.\u001b[0m\u001b[0m_experimental_compile\u001b[0m \u001b[0;32melse\u001b[0m \u001b[0;34m\"nonXla\"\u001b[0m\u001b[0;34m\u001b[0m\u001b[0;34m\u001b[0m\u001b[0m\n\u001b[1;32m    830\u001b[0m       \u001b[0mnew_tracing_count\u001b[0m \u001b[0;34m=\u001b[0m \u001b[0mself\u001b[0m\u001b[0;34m.\u001b[0m\u001b[0mexperimental_get_tracing_count\u001b[0m\u001b[0;34m(\u001b[0m\u001b[0;34m)\u001b[0m\u001b[0;34m\u001b[0m\u001b[0;34m\u001b[0m\u001b[0m\n",
      "\u001b[0;32m~/opt/anaconda3/lib/python3.8/site-packages/tensorflow/python/eager/def_function.py\u001b[0m in \u001b[0;36m_call\u001b[0;34m(self, *args, **kwds)\u001b[0m\n\u001b[1;32m    853\u001b[0m       \u001b[0;31m# In this case we have created variables on the first call, so we run the\u001b[0m\u001b[0;34m\u001b[0m\u001b[0;34m\u001b[0m\u001b[0;34m\u001b[0m\u001b[0m\n\u001b[1;32m    854\u001b[0m       \u001b[0;31m# defunned version which is guaranteed to never create variables.\u001b[0m\u001b[0;34m\u001b[0m\u001b[0;34m\u001b[0m\u001b[0;34m\u001b[0m\u001b[0m\n\u001b[0;32m--> 855\u001b[0;31m       \u001b[0;32mreturn\u001b[0m \u001b[0mself\u001b[0m\u001b[0;34m.\u001b[0m\u001b[0m_stateless_fn\u001b[0m\u001b[0;34m(\u001b[0m\u001b[0;34m*\u001b[0m\u001b[0margs\u001b[0m\u001b[0;34m,\u001b[0m \u001b[0;34m**\u001b[0m\u001b[0mkwds\u001b[0m\u001b[0;34m)\u001b[0m  \u001b[0;31m# pylint: disable=not-callable\u001b[0m\u001b[0;34m\u001b[0m\u001b[0;34m\u001b[0m\u001b[0m\n\u001b[0m\u001b[1;32m    856\u001b[0m     \u001b[0;32melif\u001b[0m \u001b[0mself\u001b[0m\u001b[0;34m.\u001b[0m\u001b[0m_stateful_fn\u001b[0m \u001b[0;32mis\u001b[0m \u001b[0;32mnot\u001b[0m \u001b[0;32mNone\u001b[0m\u001b[0;34m:\u001b[0m\u001b[0;34m\u001b[0m\u001b[0;34m\u001b[0m\u001b[0m\n\u001b[1;32m    857\u001b[0m       \u001b[0;31m# Release the lock early so that multiple threads can perform the call\u001b[0m\u001b[0;34m\u001b[0m\u001b[0;34m\u001b[0m\u001b[0;34m\u001b[0m\u001b[0m\n",
      "\u001b[0;32m~/opt/anaconda3/lib/python3.8/site-packages/tensorflow/python/eager/function.py\u001b[0m in \u001b[0;36m__call__\u001b[0;34m(self, *args, **kwargs)\u001b[0m\n\u001b[1;32m   2940\u001b[0m       (graph_function,\n\u001b[1;32m   2941\u001b[0m        filtered_flat_args) = self._maybe_define_function(args, kwargs)\n\u001b[0;32m-> 2942\u001b[0;31m     return graph_function._call_flat(\n\u001b[0m\u001b[1;32m   2943\u001b[0m         filtered_flat_args, captured_inputs=graph_function.captured_inputs)  # pylint: disable=protected-access\n\u001b[1;32m   2944\u001b[0m \u001b[0;34m\u001b[0m\u001b[0m\n",
      "\u001b[0;32m~/opt/anaconda3/lib/python3.8/site-packages/tensorflow/python/eager/function.py\u001b[0m in \u001b[0;36m_call_flat\u001b[0;34m(self, args, captured_inputs, cancellation_manager)\u001b[0m\n\u001b[1;32m   1916\u001b[0m         and executing_eagerly):\n\u001b[1;32m   1917\u001b[0m       \u001b[0;31m# No tape is watching; skip to running the function.\u001b[0m\u001b[0;34m\u001b[0m\u001b[0;34m\u001b[0m\u001b[0;34m\u001b[0m\u001b[0m\n\u001b[0;32m-> 1918\u001b[0;31m       return self._build_call_outputs(self._inference_function.call(\n\u001b[0m\u001b[1;32m   1919\u001b[0m           ctx, args, cancellation_manager=cancellation_manager))\n\u001b[1;32m   1920\u001b[0m     forward_backward = self._select_forward_and_backward_functions(\n",
      "\u001b[0;32m~/opt/anaconda3/lib/python3.8/site-packages/tensorflow/python/eager/function.py\u001b[0m in \u001b[0;36mcall\u001b[0;34m(self, ctx, args, cancellation_manager)\u001b[0m\n\u001b[1;32m    553\u001b[0m       \u001b[0;32mwith\u001b[0m \u001b[0m_InterpolateFunctionError\u001b[0m\u001b[0;34m(\u001b[0m\u001b[0mself\u001b[0m\u001b[0;34m)\u001b[0m\u001b[0;34m:\u001b[0m\u001b[0;34m\u001b[0m\u001b[0;34m\u001b[0m\u001b[0m\n\u001b[1;32m    554\u001b[0m         \u001b[0;32mif\u001b[0m \u001b[0mcancellation_manager\u001b[0m \u001b[0;32mis\u001b[0m \u001b[0;32mNone\u001b[0m\u001b[0;34m:\u001b[0m\u001b[0;34m\u001b[0m\u001b[0;34m\u001b[0m\u001b[0m\n\u001b[0;32m--> 555\u001b[0;31m           outputs = execute.execute(\n\u001b[0m\u001b[1;32m    556\u001b[0m               \u001b[0mstr\u001b[0m\u001b[0;34m(\u001b[0m\u001b[0mself\u001b[0m\u001b[0;34m.\u001b[0m\u001b[0msignature\u001b[0m\u001b[0;34m.\u001b[0m\u001b[0mname\u001b[0m\u001b[0;34m)\u001b[0m\u001b[0;34m,\u001b[0m\u001b[0;34m\u001b[0m\u001b[0;34m\u001b[0m\u001b[0m\n\u001b[1;32m    557\u001b[0m               \u001b[0mnum_outputs\u001b[0m\u001b[0;34m=\u001b[0m\u001b[0mself\u001b[0m\u001b[0;34m.\u001b[0m\u001b[0m_num_outputs\u001b[0m\u001b[0;34m,\u001b[0m\u001b[0;34m\u001b[0m\u001b[0;34m\u001b[0m\u001b[0m\n",
      "\u001b[0;32m~/opt/anaconda3/lib/python3.8/site-packages/tensorflow/python/eager/execute.py\u001b[0m in \u001b[0;36mquick_execute\u001b[0;34m(op_name, num_outputs, inputs, attrs, ctx, name)\u001b[0m\n\u001b[1;32m     57\u001b[0m   \u001b[0;32mtry\u001b[0m\u001b[0;34m:\u001b[0m\u001b[0;34m\u001b[0m\u001b[0;34m\u001b[0m\u001b[0m\n\u001b[1;32m     58\u001b[0m     \u001b[0mctx\u001b[0m\u001b[0;34m.\u001b[0m\u001b[0mensure_initialized\u001b[0m\u001b[0;34m(\u001b[0m\u001b[0;34m)\u001b[0m\u001b[0;34m\u001b[0m\u001b[0;34m\u001b[0m\u001b[0m\n\u001b[0;32m---> 59\u001b[0;31m     tensors = pywrap_tfe.TFE_Py_Execute(ctx._handle, device_name, op_name,\n\u001b[0m\u001b[1;32m     60\u001b[0m                                         inputs, attrs, num_outputs)\n\u001b[1;32m     61\u001b[0m   \u001b[0;32mexcept\u001b[0m \u001b[0mcore\u001b[0m\u001b[0;34m.\u001b[0m\u001b[0m_NotOkStatusException\u001b[0m \u001b[0;32mas\u001b[0m \u001b[0me\u001b[0m\u001b[0;34m:\u001b[0m\u001b[0;34m\u001b[0m\u001b[0;34m\u001b[0m\u001b[0m\n",
      "\u001b[0;31mKeyboardInterrupt\u001b[0m: "
     ]
    }
   ],
   "source": [
    "history8 = model1.fit(\n",
    "      train_generator4,\n",
    "      steps_per_epoch=20,\n",
    "      epochs=50,\n",
    "      validation_data=valid_generator4,\n",
    "      validation_steps=6,\n",
    "      verbose=1,callbacks=[es, mc])"
   ]
  },
  {
   "cell_type": "markdown",
   "metadata": {},
   "source": [
    "Se para el modelo por la integridad del ordenador. Se puede observar el gran salto de la función de pérdida de la primera época a la segunda, lo que indica que entrenando el modelo de forma completa, se conseguirían resultados muy satisfactorios."
   ]
  }
 ],
 "metadata": {
  "kernelspec": {
   "display_name": "Python 3",
   "language": "python",
   "name": "python3"
  },
  "language_info": {
   "codemirror_mode": {
    "name": "ipython",
    "version": 3
   },
   "file_extension": ".py",
   "mimetype": "text/x-python",
   "name": "python",
   "nbconvert_exporter": "python",
   "pygments_lexer": "ipython3",
   "version": "3.8.3"
  }
 },
 "nbformat": 4,
 "nbformat_minor": 4
}
